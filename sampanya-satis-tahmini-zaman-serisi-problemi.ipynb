{
 "cells": [
  {
   "cell_type": "code",
   "execution_count": 1,
   "metadata": {
    "_cell_guid": "b1076dfc-b9ad-4769-8c92-a6c4dae69d19",
    "_uuid": "8f2839f25d086af736a60e9eeb907d3b93b6e0e5",
    "execution": {
     "iopub.execute_input": "2021-03-11T18:40:42.029338Z",
     "iopub.status.busy": "2021-03-11T18:40:42.028737Z",
     "iopub.status.idle": "2021-03-11T18:40:42.040806Z",
     "shell.execute_reply": "2021-03-11T18:40:42.039899Z"
    },
    "papermill": {
     "duration": 0.041967,
     "end_time": "2021-03-11T18:40:42.041209",
     "exception": false,
     "start_time": "2021-03-11T18:40:41.999242",
     "status": "completed"
    },
    "tags": []
   },
   "outputs": [
    {
     "name": "stdout",
     "output_type": "stream",
     "text": [
      "/kaggle/input/perrin-freres-monthly-champagne-sales/Perrin Freres monthly champagne sales millions.csv\n"
     ]
    }
   ],
   "source": [
    "# This Python 3 environment comes with many helpful analytics libraries installed\n",
    "# It is defined by the kaggle/python Docker image: https://github.com/kaggle/docker-python\n",
    "# For example, here's several helpful packages to load\n",
    "\n",
    "import numpy as np # linear algebra\n",
    "import pandas as pd # data processing, CSV file I/O (e.g. pd.read_csv)\n",
    "\n",
    "# Input data files are available in the read-only \"../input/\" directory\n",
    "# For example, running this (by clicking run or pressing Shift+Enter) will list all files under the input directory\n",
    "\n",
    "import os\n",
    "for dirname, _, filenames in os.walk('/kaggle/input'):\n",
    "    for filename in filenames:\n",
    "        print(os.path.join(dirname, filename))\n",
    "\n",
    "# You can write up to 20GB to the current directory (/kaggle/working/) that gets preserved as output when you create a version using \"Save & Run All\" \n",
    "# You can also write temporary files to /kaggle/temp/, but they won't be saved outside of the current session"
   ]
  },
  {
   "cell_type": "code",
   "execution_count": 2,
   "metadata": {
    "execution": {
     "iopub.execute_input": "2021-03-11T18:40:42.094016Z",
     "iopub.status.busy": "2021-03-11T18:40:42.093140Z",
     "iopub.status.idle": "2021-03-11T18:40:48.106438Z",
     "shell.execute_reply": "2021-03-11T18:40:48.105549Z"
    },
    "papermill": {
     "duration": 6.039508,
     "end_time": "2021-03-11T18:40:48.106599",
     "exception": false,
     "start_time": "2021-03-11T18:40:42.067091",
     "status": "completed"
    },
    "tags": []
   },
   "outputs": [],
   "source": [
    "import numpy as np\n",
    "import pandas as pd\n",
    "\n",
    "import matplotlib.pyplot as plt\n",
    "from matplotlib import pyplot\n",
    "from pandas.plotting import lag_plot\n",
    "import plotly.offline as py\n",
    "import plotly.graph_objs as go\n",
    "\n",
    "from sklearn.preprocessing import MinMaxScaler\n",
    "from datetime import datetime\n",
    "\n",
    "from keras.preprocessing.sequence import TimeseriesGenerator\n",
    "from keras.models import Sequential\n",
    "from keras.layers import Dense\n",
    "from keras.layers import LSTM\n",
    "\n",
    "from statsmodels.tsa.stattools import adfuller\n",
    "from statsmodels.tsa.statespace.sarimax import SARIMAX\n",
    "from statsmodels.tsa.seasonal import seasonal_decompose \n",
    "      \n",
    "from statsmodels.tools.eval_measures import rmse\n",
    "import warnings\n",
    "warnings.filterwarnings(\"ignore\")"
   ]
  },
  {
   "cell_type": "code",
   "execution_count": 3,
   "metadata": {
    "execution": {
     "iopub.execute_input": "2021-03-11T18:40:48.159997Z",
     "iopub.status.busy": "2021-03-11T18:40:48.159360Z",
     "iopub.status.idle": "2021-03-11T18:40:48.175434Z",
     "shell.execute_reply": "2021-03-11T18:40:48.174870Z"
    },
    "papermill": {
     "duration": 0.0444,
     "end_time": "2021-03-11T18:40:48.175575",
     "exception": false,
     "start_time": "2021-03-11T18:40:48.131175",
     "status": "completed"
    },
    "tags": []
   },
   "outputs": [],
   "source": [
    "data=pd.read_csv(\"../input/perrin-freres-monthly-champagne-sales/Perrin Freres monthly champagne sales millions.csv\")"
   ]
  },
  {
   "cell_type": "code",
   "execution_count": 4,
   "metadata": {
    "execution": {
     "iopub.execute_input": "2021-03-11T18:40:48.226743Z",
     "iopub.status.busy": "2021-03-11T18:40:48.226146Z",
     "iopub.status.idle": "2021-03-11T18:40:48.254567Z",
     "shell.execute_reply": "2021-03-11T18:40:48.253996Z"
    },
    "papermill": {
     "duration": 0.054709,
     "end_time": "2021-03-11T18:40:48.254718",
     "exception": false,
     "start_time": "2021-03-11T18:40:48.200009",
     "status": "completed"
    },
    "tags": []
   },
   "outputs": [
    {
     "data": {
      "text/html": [
       "<div>\n",
       "<style scoped>\n",
       "    .dataframe tbody tr th:only-of-type {\n",
       "        vertical-align: middle;\n",
       "    }\n",
       "\n",
       "    .dataframe tbody tr th {\n",
       "        vertical-align: top;\n",
       "    }\n",
       "\n",
       "    .dataframe thead th {\n",
       "        text-align: right;\n",
       "    }\n",
       "</style>\n",
       "<table border=\"1\" class=\"dataframe\">\n",
       "  <thead>\n",
       "    <tr style=\"text-align: right;\">\n",
       "      <th></th>\n",
       "      <th>Month</th>\n",
       "      <th>Perrin Freres monthly champagne sales millions ?64-?72</th>\n",
       "    </tr>\n",
       "  </thead>\n",
       "  <tbody>\n",
       "    <tr>\n",
       "      <th>0</th>\n",
       "      <td>1964-01</td>\n",
       "      <td>2815.0</td>\n",
       "    </tr>\n",
       "    <tr>\n",
       "      <th>1</th>\n",
       "      <td>1964-02</td>\n",
       "      <td>2672.0</td>\n",
       "    </tr>\n",
       "    <tr>\n",
       "      <th>2</th>\n",
       "      <td>1964-03</td>\n",
       "      <td>2755.0</td>\n",
       "    </tr>\n",
       "    <tr>\n",
       "      <th>3</th>\n",
       "      <td>1964-04</td>\n",
       "      <td>2721.0</td>\n",
       "    </tr>\n",
       "    <tr>\n",
       "      <th>4</th>\n",
       "      <td>1964-05</td>\n",
       "      <td>2946.0</td>\n",
       "    </tr>\n",
       "    <tr>\n",
       "      <th>...</th>\n",
       "      <td>...</td>\n",
       "      <td>...</td>\n",
       "    </tr>\n",
       "    <tr>\n",
       "      <th>102</th>\n",
       "      <td>1972-07</td>\n",
       "      <td>4298.0</td>\n",
       "    </tr>\n",
       "    <tr>\n",
       "      <th>103</th>\n",
       "      <td>1972-08</td>\n",
       "      <td>1413.0</td>\n",
       "    </tr>\n",
       "    <tr>\n",
       "      <th>104</th>\n",
       "      <td>1972-09</td>\n",
       "      <td>5877.0</td>\n",
       "    </tr>\n",
       "    <tr>\n",
       "      <th>105</th>\n",
       "      <td>NaN</td>\n",
       "      <td>NaN</td>\n",
       "    </tr>\n",
       "    <tr>\n",
       "      <th>106</th>\n",
       "      <td>Perrin Freres monthly champagne sales millions...</td>\n",
       "      <td>NaN</td>\n",
       "    </tr>\n",
       "  </tbody>\n",
       "</table>\n",
       "<p>107 rows × 2 columns</p>\n",
       "</div>"
      ],
      "text/plain": [
       "                                                 Month  \\\n",
       "0                                              1964-01   \n",
       "1                                              1964-02   \n",
       "2                                              1964-03   \n",
       "3                                              1964-04   \n",
       "4                                              1964-05   \n",
       "..                                                 ...   \n",
       "102                                            1972-07   \n",
       "103                                            1972-08   \n",
       "104                                            1972-09   \n",
       "105                                                NaN   \n",
       "106  Perrin Freres monthly champagne sales millions...   \n",
       "\n",
       "     Perrin Freres monthly champagne sales millions ?64-?72  \n",
       "0                                               2815.0       \n",
       "1                                               2672.0       \n",
       "2                                               2755.0       \n",
       "3                                               2721.0       \n",
       "4                                               2946.0       \n",
       "..                                                 ...       \n",
       "102                                             4298.0       \n",
       "103                                             1413.0       \n",
       "104                                             5877.0       \n",
       "105                                                NaN       \n",
       "106                                                NaN       \n",
       "\n",
       "[107 rows x 2 columns]"
      ]
     },
     "execution_count": 4,
     "metadata": {},
     "output_type": "execute_result"
    }
   ],
   "source": [
    "data"
   ]
  },
  {
   "cell_type": "code",
   "execution_count": 5,
   "metadata": {
    "execution": {
     "iopub.execute_input": "2021-03-11T18:40:48.320838Z",
     "iopub.status.busy": "2021-03-11T18:40:48.320219Z",
     "iopub.status.idle": "2021-03-11T18:40:48.323521Z",
     "shell.execute_reply": "2021-03-11T18:40:48.324054Z"
    },
    "papermill": {
     "duration": 0.044977,
     "end_time": "2021-03-11T18:40:48.324213",
     "exception": false,
     "start_time": "2021-03-11T18:40:48.279236",
     "status": "completed"
    },
    "tags": []
   },
   "outputs": [
    {
     "name": "stdout",
     "output_type": "stream",
     "text": [
      "<class 'pandas.core.frame.DataFrame'>\n",
      "RangeIndex: 107 entries, 0 to 106\n",
      "Data columns (total 2 columns):\n",
      " #   Column                                                  Non-Null Count  Dtype  \n",
      "---  ------                                                  --------------  -----  \n",
      " 0   Month                                                   106 non-null    object \n",
      " 1   Perrin Freres monthly champagne sales millions ?64-?72  105 non-null    float64\n",
      "dtypes: float64(1), object(1)\n",
      "memory usage: 1.8+ KB\n"
     ]
    }
   ],
   "source": [
    "data.info()"
   ]
  },
  {
   "cell_type": "code",
   "execution_count": 6,
   "metadata": {
    "execution": {
     "iopub.execute_input": "2021-03-11T18:40:48.376952Z",
     "iopub.status.busy": "2021-03-11T18:40:48.376098Z",
     "iopub.status.idle": "2021-03-11T18:40:48.413559Z",
     "shell.execute_reply": "2021-03-11T18:40:48.413131Z"
    },
    "papermill": {
     "duration": 0.064645,
     "end_time": "2021-03-11T18:40:48.413717",
     "exception": false,
     "start_time": "2021-03-11T18:40:48.349072",
     "status": "completed"
    },
    "tags": []
   },
   "outputs": [
    {
     "data": {
      "text/html": [
       "<div>\n",
       "<style scoped>\n",
       "    .dataframe tbody tr th:only-of-type {\n",
       "        vertical-align: middle;\n",
       "    }\n",
       "\n",
       "    .dataframe tbody tr th {\n",
       "        vertical-align: top;\n",
       "    }\n",
       "\n",
       "    .dataframe thead th {\n",
       "        text-align: right;\n",
       "    }\n",
       "</style>\n",
       "<table border=\"1\" class=\"dataframe\">\n",
       "  <thead>\n",
       "    <tr style=\"text-align: right;\">\n",
       "      <th></th>\n",
       "      <th>count</th>\n",
       "      <th>unique</th>\n",
       "      <th>top</th>\n",
       "      <th>freq</th>\n",
       "      <th>mean</th>\n",
       "      <th>std</th>\n",
       "      <th>min</th>\n",
       "      <th>25%</th>\n",
       "      <th>50%</th>\n",
       "      <th>75%</th>\n",
       "      <th>max</th>\n",
       "    </tr>\n",
       "  </thead>\n",
       "  <tbody>\n",
       "    <tr>\n",
       "      <th>Month</th>\n",
       "      <td>106</td>\n",
       "      <td>106</td>\n",
       "      <td>1968-08</td>\n",
       "      <td>1</td>\n",
       "      <td>NaN</td>\n",
       "      <td>NaN</td>\n",
       "      <td>NaN</td>\n",
       "      <td>NaN</td>\n",
       "      <td>NaN</td>\n",
       "      <td>NaN</td>\n",
       "      <td>NaN</td>\n",
       "    </tr>\n",
       "    <tr>\n",
       "      <th>Perrin Freres monthly champagne sales millions ?64-?72</th>\n",
       "      <td>105.0</td>\n",
       "      <td>NaN</td>\n",
       "      <td>NaN</td>\n",
       "      <td>NaN</td>\n",
       "      <td>4761.152381</td>\n",
       "      <td>2553.502601</td>\n",
       "      <td>1413.0</td>\n",
       "      <td>3113.0</td>\n",
       "      <td>4217.0</td>\n",
       "      <td>5221.0</td>\n",
       "      <td>13916.0</td>\n",
       "    </tr>\n",
       "  </tbody>\n",
       "</table>\n",
       "</div>"
      ],
      "text/plain": [
       "                                                    count unique      top  \\\n",
       "Month                                                 106    106  1968-08   \n",
       "Perrin Freres monthly champagne sales millions ...  105.0    NaN      NaN   \n",
       "\n",
       "                                                   freq         mean  \\\n",
       "Month                                                 1          NaN   \n",
       "Perrin Freres monthly champagne sales millions ...  NaN  4761.152381   \n",
       "\n",
       "                                                            std     min  \\\n",
       "Month                                                       NaN     NaN   \n",
       "Perrin Freres monthly champagne sales millions ...  2553.502601  1413.0   \n",
       "\n",
       "                                                       25%     50%     75%  \\\n",
       "Month                                                  NaN     NaN     NaN   \n",
       "Perrin Freres monthly champagne sales millions ...  3113.0  4217.0  5221.0   \n",
       "\n",
       "                                                        max  \n",
       "Month                                                   NaN  \n",
       "Perrin Freres monthly champagne sales millions ...  13916.0  "
      ]
     },
     "execution_count": 6,
     "metadata": {},
     "output_type": "execute_result"
    }
   ],
   "source": [
    "data.describe(include='all').T"
   ]
  },
  {
   "cell_type": "code",
   "execution_count": 7,
   "metadata": {
    "execution": {
     "iopub.execute_input": "2021-03-11T18:40:48.472570Z",
     "iopub.status.busy": "2021-03-11T18:40:48.471946Z",
     "iopub.status.idle": "2021-03-11T18:40:48.474533Z",
     "shell.execute_reply": "2021-03-11T18:40:48.475014Z"
    },
    "papermill": {
     "duration": 0.036648,
     "end_time": "2021-03-11T18:40:48.475176",
     "exception": false,
     "start_time": "2021-03-11T18:40:48.438528",
     "status": "completed"
    },
    "tags": []
   },
   "outputs": [
    {
     "data": {
      "text/html": [
       "<div>\n",
       "<style scoped>\n",
       "    .dataframe tbody tr th:only-of-type {\n",
       "        vertical-align: middle;\n",
       "    }\n",
       "\n",
       "    .dataframe tbody tr th {\n",
       "        vertical-align: top;\n",
       "    }\n",
       "\n",
       "    .dataframe thead th {\n",
       "        text-align: right;\n",
       "    }\n",
       "</style>\n",
       "<table border=\"1\" class=\"dataframe\">\n",
       "  <thead>\n",
       "    <tr style=\"text-align: right;\">\n",
       "      <th></th>\n",
       "      <th>Month</th>\n",
       "      <th>Sales</th>\n",
       "    </tr>\n",
       "  </thead>\n",
       "  <tbody>\n",
       "    <tr>\n",
       "      <th>0</th>\n",
       "      <td>1964-01</td>\n",
       "      <td>2815.0</td>\n",
       "    </tr>\n",
       "    <tr>\n",
       "      <th>1</th>\n",
       "      <td>1964-02</td>\n",
       "      <td>2672.0</td>\n",
       "    </tr>\n",
       "    <tr>\n",
       "      <th>2</th>\n",
       "      <td>1964-03</td>\n",
       "      <td>2755.0</td>\n",
       "    </tr>\n",
       "    <tr>\n",
       "      <th>3</th>\n",
       "      <td>1964-04</td>\n",
       "      <td>2721.0</td>\n",
       "    </tr>\n",
       "    <tr>\n",
       "      <th>4</th>\n",
       "      <td>1964-05</td>\n",
       "      <td>2946.0</td>\n",
       "    </tr>\n",
       "  </tbody>\n",
       "</table>\n",
       "</div>"
      ],
      "text/plain": [
       "     Month   Sales\n",
       "0  1964-01  2815.0\n",
       "1  1964-02  2672.0\n",
       "2  1964-03  2755.0\n",
       "3  1964-04  2721.0\n",
       "4  1964-05  2946.0"
      ]
     },
     "execution_count": 7,
     "metadata": {},
     "output_type": "execute_result"
    }
   ],
   "source": [
    "#sütun adı değiştirme \n",
    "data=data.rename(columns={'Perrin Freres monthly champagne sales millions ?64-?72': 'Sales'})\n",
    "data.head()"
   ]
  },
  {
   "cell_type": "markdown",
   "metadata": {
    "papermill": {
     "duration": 0.024922,
     "end_time": "2021-03-11T18:40:48.525330",
     "exception": false,
     "start_time": "2021-03-11T18:40:48.500408",
     "status": "completed"
    },
    "tags": []
   },
   "source": [
    "# Kayıp Değişken Analizi"
   ]
  },
  {
   "cell_type": "code",
   "execution_count": 8,
   "metadata": {
    "execution": {
     "iopub.execute_input": "2021-03-11T18:40:48.578705Z",
     "iopub.status.busy": "2021-03-11T18:40:48.578155Z",
     "iopub.status.idle": "2021-03-11T18:40:48.584182Z",
     "shell.execute_reply": "2021-03-11T18:40:48.584727Z"
    },
    "papermill": {
     "duration": 0.03415,
     "end_time": "2021-03-11T18:40:48.584892",
     "exception": false,
     "start_time": "2021-03-11T18:40:48.550742",
     "status": "completed"
    },
    "tags": []
   },
   "outputs": [
    {
     "data": {
      "text/plain": [
       "Month    1\n",
       "Sales    2\n",
       "dtype: int64"
      ]
     },
     "execution_count": 8,
     "metadata": {},
     "output_type": "execute_result"
    }
   ],
   "source": [
    "data.isnull().sum()"
   ]
  },
  {
   "cell_type": "code",
   "execution_count": 9,
   "metadata": {
    "execution": {
     "iopub.execute_input": "2021-03-11T18:40:48.639384Z",
     "iopub.status.busy": "2021-03-11T18:40:48.638792Z",
     "iopub.status.idle": "2021-03-11T18:40:48.648215Z",
     "shell.execute_reply": "2021-03-11T18:40:48.647755Z"
    },
    "papermill": {
     "duration": 0.037948,
     "end_time": "2021-03-11T18:40:48.648346",
     "exception": false,
     "start_time": "2021-03-11T18:40:48.610398",
     "status": "completed"
    },
    "tags": []
   },
   "outputs": [
    {
     "data": {
      "text/html": [
       "<div>\n",
       "<style scoped>\n",
       "    .dataframe tbody tr th:only-of-type {\n",
       "        vertical-align: middle;\n",
       "    }\n",
       "\n",
       "    .dataframe tbody tr th {\n",
       "        vertical-align: top;\n",
       "    }\n",
       "\n",
       "    .dataframe thead th {\n",
       "        text-align: right;\n",
       "    }\n",
       "</style>\n",
       "<table border=\"1\" class=\"dataframe\">\n",
       "  <thead>\n",
       "    <tr style=\"text-align: right;\">\n",
       "      <th></th>\n",
       "      <th>Month</th>\n",
       "      <th>Sales</th>\n",
       "    </tr>\n",
       "  </thead>\n",
       "  <tbody>\n",
       "    <tr>\n",
       "      <th>105</th>\n",
       "      <td>NaN</td>\n",
       "      <td>NaN</td>\n",
       "    </tr>\n",
       "    <tr>\n",
       "      <th>106</th>\n",
       "      <td>Perrin Freres monthly champagne sales millions...</td>\n",
       "      <td>NaN</td>\n",
       "    </tr>\n",
       "  </tbody>\n",
       "</table>\n",
       "</div>"
      ],
      "text/plain": [
       "                                                 Month  Sales\n",
       "105                                                NaN    NaN\n",
       "106  Perrin Freres monthly champagne sales millions...    NaN"
      ]
     },
     "execution_count": 9,
     "metadata": {},
     "output_type": "execute_result"
    }
   ],
   "source": [
    "data[data.isna().any(axis=1)]"
   ]
  },
  {
   "cell_type": "code",
   "execution_count": 10,
   "metadata": {
    "execution": {
     "iopub.execute_input": "2021-03-11T18:40:48.707831Z",
     "iopub.status.busy": "2021-03-11T18:40:48.707208Z",
     "iopub.status.idle": "2021-03-11T18:40:48.709984Z",
     "shell.execute_reply": "2021-03-11T18:40:48.709531Z"
    },
    "papermill": {
     "duration": 0.03578,
     "end_time": "2021-03-11T18:40:48.710111",
     "exception": false,
     "start_time": "2021-03-11T18:40:48.674331",
     "status": "completed"
    },
    "tags": []
   },
   "outputs": [],
   "source": [
    "#etkisiz iki değişken kayıp,veriden çıkaralım.\n",
    "data=data.dropna()"
   ]
  },
  {
   "cell_type": "code",
   "execution_count": 11,
   "metadata": {
    "execution": {
     "iopub.execute_input": "2021-03-11T18:40:48.770449Z",
     "iopub.status.busy": "2021-03-11T18:40:48.769499Z",
     "iopub.status.idle": "2021-03-11T18:40:48.773049Z",
     "shell.execute_reply": "2021-03-11T18:40:48.772479Z"
    },
    "papermill": {
     "duration": 0.036459,
     "end_time": "2021-03-11T18:40:48.773178",
     "exception": false,
     "start_time": "2021-03-11T18:40:48.736719",
     "status": "completed"
    },
    "tags": []
   },
   "outputs": [
    {
     "data": {
      "text/plain": [
       "Month    0\n",
       "Sales    0\n",
       "dtype: int64"
      ]
     },
     "execution_count": 11,
     "metadata": {},
     "output_type": "execute_result"
    }
   ],
   "source": [
    "data.isnull().sum()"
   ]
  },
  {
   "cell_type": "code",
   "execution_count": 12,
   "metadata": {
    "execution": {
     "iopub.execute_input": "2021-03-11T18:40:48.831614Z",
     "iopub.status.busy": "2021-03-11T18:40:48.830757Z",
     "iopub.status.idle": "2021-03-11T18:40:48.834680Z",
     "shell.execute_reply": "2021-03-11T18:40:48.835114Z"
    },
    "papermill": {
     "duration": 0.035523,
     "end_time": "2021-03-11T18:40:48.835262",
     "exception": false,
     "start_time": "2021-03-11T18:40:48.799739",
     "status": "completed"
    },
    "tags": []
   },
   "outputs": [
    {
     "data": {
      "text/plain": [
       "105"
      ]
     },
     "execution_count": 12,
     "metadata": {},
     "output_type": "execute_result"
    }
   ],
   "source": [
    "len(data)"
   ]
  },
  {
   "cell_type": "markdown",
   "metadata": {
    "papermill": {
     "duration": 0.027077,
     "end_time": "2021-03-11T18:40:48.888650",
     "exception": false,
     "start_time": "2021-03-11T18:40:48.861573",
     "status": "completed"
    },
    "tags": []
   },
   "source": [
    "# İstatiksel Analiz ve Görselleştirme"
   ]
  },
  {
   "cell_type": "code",
   "execution_count": 13,
   "metadata": {
    "execution": {
     "iopub.execute_input": "2021-03-11T18:40:48.955190Z",
     "iopub.status.busy": "2021-03-11T18:40:48.954482Z",
     "iopub.status.idle": "2021-03-11T18:40:48.957956Z",
     "shell.execute_reply": "2021-03-11T18:40:48.958345Z"
    },
    "papermill": {
     "duration": 0.043384,
     "end_time": "2021-03-11T18:40:48.958504",
     "exception": false,
     "start_time": "2021-03-11T18:40:48.915120",
     "status": "completed"
    },
    "tags": []
   },
   "outputs": [
    {
     "data": {
      "text/html": [
       "<div>\n",
       "<style scoped>\n",
       "    .dataframe tbody tr th:only-of-type {\n",
       "        vertical-align: middle;\n",
       "    }\n",
       "\n",
       "    .dataframe tbody tr th {\n",
       "        vertical-align: top;\n",
       "    }\n",
       "\n",
       "    .dataframe thead th {\n",
       "        text-align: right;\n",
       "    }\n",
       "</style>\n",
       "<table border=\"1\" class=\"dataframe\">\n",
       "  <thead>\n",
       "    <tr style=\"text-align: right;\">\n",
       "      <th></th>\n",
       "      <th>Sales</th>\n",
       "    </tr>\n",
       "  </thead>\n",
       "  <tbody>\n",
       "    <tr>\n",
       "      <th>count</th>\n",
       "      <td>105.000000</td>\n",
       "    </tr>\n",
       "    <tr>\n",
       "      <th>mean</th>\n",
       "      <td>4761.152381</td>\n",
       "    </tr>\n",
       "    <tr>\n",
       "      <th>std</th>\n",
       "      <td>2553.502601</td>\n",
       "    </tr>\n",
       "    <tr>\n",
       "      <th>min</th>\n",
       "      <td>1413.000000</td>\n",
       "    </tr>\n",
       "    <tr>\n",
       "      <th>25%</th>\n",
       "      <td>3113.000000</td>\n",
       "    </tr>\n",
       "    <tr>\n",
       "      <th>50%</th>\n",
       "      <td>4217.000000</td>\n",
       "    </tr>\n",
       "    <tr>\n",
       "      <th>75%</th>\n",
       "      <td>5221.000000</td>\n",
       "    </tr>\n",
       "    <tr>\n",
       "      <th>max</th>\n",
       "      <td>13916.000000</td>\n",
       "    </tr>\n",
       "  </tbody>\n",
       "</table>\n",
       "</div>"
      ],
      "text/plain": [
       "              Sales\n",
       "count    105.000000\n",
       "mean    4761.152381\n",
       "std     2553.502601\n",
       "min     1413.000000\n",
       "25%     3113.000000\n",
       "50%     4217.000000\n",
       "75%     5221.000000\n",
       "max    13916.000000"
      ]
     },
     "execution_count": 13,
     "metadata": {},
     "output_type": "execute_result"
    }
   ],
   "source": [
    "data.describe()"
   ]
  },
  {
   "cell_type": "code",
   "execution_count": 14,
   "metadata": {
    "execution": {
     "iopub.execute_input": "2021-03-11T18:40:49.024634Z",
     "iopub.status.busy": "2021-03-11T18:40:49.023965Z",
     "iopub.status.idle": "2021-03-11T18:40:49.027693Z",
     "shell.execute_reply": "2021-03-11T18:40:49.027130Z"
    },
    "papermill": {
     "duration": 0.042065,
     "end_time": "2021-03-11T18:40:49.027827",
     "exception": false,
     "start_time": "2021-03-11T18:40:48.985762",
     "status": "completed"
    },
    "tags": []
   },
   "outputs": [
    {
     "data": {
      "text/html": [
       "<div>\n",
       "<style scoped>\n",
       "    .dataframe tbody tr th:only-of-type {\n",
       "        vertical-align: middle;\n",
       "    }\n",
       "\n",
       "    .dataframe tbody tr th {\n",
       "        vertical-align: top;\n",
       "    }\n",
       "\n",
       "    .dataframe thead th {\n",
       "        text-align: right;\n",
       "    }\n",
       "</style>\n",
       "<table border=\"1\" class=\"dataframe\">\n",
       "  <thead>\n",
       "    <tr style=\"text-align: right;\">\n",
       "      <th></th>\n",
       "      <th>Sales</th>\n",
       "    </tr>\n",
       "    <tr>\n",
       "      <th>Month</th>\n",
       "      <th></th>\n",
       "    </tr>\n",
       "  </thead>\n",
       "  <tbody>\n",
       "    <tr>\n",
       "      <th>1964-01-01</th>\n",
       "      <td>2815.0</td>\n",
       "    </tr>\n",
       "    <tr>\n",
       "      <th>1964-02-01</th>\n",
       "      <td>2672.0</td>\n",
       "    </tr>\n",
       "    <tr>\n",
       "      <th>1964-03-01</th>\n",
       "      <td>2755.0</td>\n",
       "    </tr>\n",
       "    <tr>\n",
       "      <th>1964-04-01</th>\n",
       "      <td>2721.0</td>\n",
       "    </tr>\n",
       "    <tr>\n",
       "      <th>1964-05-01</th>\n",
       "      <td>2946.0</td>\n",
       "    </tr>\n",
       "  </tbody>\n",
       "</table>\n",
       "</div>"
      ],
      "text/plain": [
       "             Sales\n",
       "Month             \n",
       "1964-01-01  2815.0\n",
       "1964-02-01  2672.0\n",
       "1964-03-01  2755.0\n",
       "1964-04-01  2721.0\n",
       "1964-05-01  2946.0"
      ]
     },
     "execution_count": 14,
     "metadata": {},
     "output_type": "execute_result"
    }
   ],
   "source": [
    "data.Month = pd.to_datetime(data.Month)\n",
    "data = data.set_index(\"Month\")\n",
    "data.head()"
   ]
  },
  {
   "cell_type": "code",
   "execution_count": 15,
   "metadata": {
    "execution": {
     "iopub.execute_input": "2021-03-11T18:40:49.088183Z",
     "iopub.status.busy": "2021-03-11T18:40:49.087567Z",
     "iopub.status.idle": "2021-03-11T18:40:50.106894Z",
     "shell.execute_reply": "2021-03-11T18:40:50.106068Z"
    },
    "papermill": {
     "duration": 1.051263,
     "end_time": "2021-03-11T18:40:50.107038",
     "exception": false,
     "start_time": "2021-03-11T18:40:49.055775",
     "status": "completed"
    },
    "tags": []
   },
   "outputs": [
    {
     "data": {
      "text/html": [
       "        <script type=\"text/javascript\">\n",
       "        window.PlotlyConfig = {MathJaxConfig: 'local'};\n",
       "        if (window.MathJax) {MathJax.Hub.Config({SVG: {font: \"STIX-Web\"}});}\n",
       "        if (typeof require !== 'undefined') {\n",
       "        require.undef(\"plotly\");\n",
       "        requirejs.config({\n",
       "            paths: {\n",
       "                'plotly': ['https://cdn.plot.ly/plotly-latest.min']\n",
       "            }\n",
       "        });\n",
       "        require(['plotly'], function(Plotly) {\n",
       "            window._Plotly = Plotly;\n",
       "        });\n",
       "        }\n",
       "        </script>\n",
       "        "
      ]
     },
     "metadata": {},
     "output_type": "display_data"
    },
    {
     "data": {
      "text/html": [
       "<div>                            <div id=\"ede2e77b-2abe-44fc-9de2-e6205cb9cbc7\" class=\"plotly-graph-div\" style=\"height:525px; width:100%;\"></div>            <script type=\"text/javascript\">                require([\"plotly\"], function(Plotly) {                    window.PLOTLYENV=window.PLOTLYENV || {};                                    if (document.getElementById(\"ede2e77b-2abe-44fc-9de2-e6205cb9cbc7\")) {                    Plotly.newPlot(                        \"ede2e77b-2abe-44fc-9de2-e6205cb9cbc7\",                        [{\"type\": \"scatter\", \"x\": [\"1964-01-01T00:00:00\", \"1964-02-01T00:00:00\", \"1964-03-01T00:00:00\", \"1964-04-01T00:00:00\", \"1964-05-01T00:00:00\", \"1964-06-01T00:00:00\", \"1964-07-01T00:00:00\", \"1964-08-01T00:00:00\", \"1964-09-01T00:00:00\", \"1964-10-01T00:00:00\", \"1964-11-01T00:00:00\", \"1964-12-01T00:00:00\", \"1965-01-01T00:00:00\", \"1965-02-01T00:00:00\", \"1965-03-01T00:00:00\", \"1965-04-01T00:00:00\", \"1965-05-01T00:00:00\", \"1965-06-01T00:00:00\", \"1965-07-01T00:00:00\", \"1965-08-01T00:00:00\", \"1965-09-01T00:00:00\", \"1965-10-01T00:00:00\", \"1965-11-01T00:00:00\", \"1965-12-01T00:00:00\", \"1966-01-01T00:00:00\", \"1966-02-01T00:00:00\", \"1966-03-01T00:00:00\", \"1966-04-01T00:00:00\", \"1966-05-01T00:00:00\", \"1966-06-01T00:00:00\", \"1966-07-01T00:00:00\", \"1966-08-01T00:00:00\", \"1966-09-01T00:00:00\", \"1966-10-01T00:00:00\", \"1966-11-01T00:00:00\", \"1966-12-01T00:00:00\", \"1967-01-01T00:00:00\", \"1967-02-01T00:00:00\", \"1967-03-01T00:00:00\", \"1967-04-01T00:00:00\", \"1967-05-01T00:00:00\", \"1967-06-01T00:00:00\", \"1967-07-01T00:00:00\", \"1967-08-01T00:00:00\", \"1967-09-01T00:00:00\", \"1967-10-01T00:00:00\", \"1967-11-01T00:00:00\", \"1967-12-01T00:00:00\", \"1968-01-01T00:00:00\", \"1968-02-01T00:00:00\", \"1968-03-01T00:00:00\", \"1968-04-01T00:00:00\", \"1968-05-01T00:00:00\", \"1968-06-01T00:00:00\", \"1968-07-01T00:00:00\", \"1968-08-01T00:00:00\", \"1968-09-01T00:00:00\", \"1968-10-01T00:00:00\", \"1968-11-01T00:00:00\", \"1968-12-01T00:00:00\", \"1969-01-01T00:00:00\", \"1969-02-01T00:00:00\", \"1969-03-01T00:00:00\", \"1969-04-01T00:00:00\", \"1969-05-01T00:00:00\", \"1969-06-01T00:00:00\", \"1969-07-01T00:00:00\", \"1969-08-01T00:00:00\", \"1969-09-01T00:00:00\", \"1969-10-01T00:00:00\", \"1969-11-01T00:00:00\", \"1969-12-01T00:00:00\", \"1970-01-01T00:00:00\", \"1970-02-01T00:00:00\", \"1970-03-01T00:00:00\", \"1970-04-01T00:00:00\", \"1970-05-01T00:00:00\", \"1970-06-01T00:00:00\", \"1970-07-01T00:00:00\", \"1970-08-01T00:00:00\", \"1970-09-01T00:00:00\", \"1970-10-01T00:00:00\", \"1970-11-01T00:00:00\", \"1970-12-01T00:00:00\", \"1971-01-01T00:00:00\", \"1971-02-01T00:00:00\", \"1971-03-01T00:00:00\", \"1971-04-01T00:00:00\", \"1971-05-01T00:00:00\", \"1971-06-01T00:00:00\", \"1971-07-01T00:00:00\", \"1971-08-01T00:00:00\", \"1971-09-01T00:00:00\", \"1971-10-01T00:00:00\", \"1971-11-01T00:00:00\", \"1971-12-01T00:00:00\", \"1972-01-01T00:00:00\", \"1972-02-01T00:00:00\", \"1972-03-01T00:00:00\", \"1972-04-01T00:00:00\", \"1972-05-01T00:00:00\", \"1972-06-01T00:00:00\", \"1972-07-01T00:00:00\", \"1972-08-01T00:00:00\", \"1972-09-01T00:00:00\"], \"y\": [2815.0, 2672.0, 2755.0, 2721.0, 2946.0, 3036.0, 2282.0, 2212.0, 2922.0, 4301.0, 5764.0, 7312.0, 2541.0, 2475.0, 3031.0, 3266.0, 3776.0, 3230.0, 3028.0, 1759.0, 3595.0, 4474.0, 6838.0, 8357.0, 3113.0, 3006.0, 4047.0, 3523.0, 3937.0, 3986.0, 3260.0, 1573.0, 3528.0, 5211.0, 7614.0, 9254.0, 5375.0, 3088.0, 3718.0, 4514.0, 4520.0, 4539.0, 3663.0, 1643.0, 4739.0, 5428.0, 8314.0, 10651.0, 3633.0, 4292.0, 4154.0, 4121.0, 4647.0, 4753.0, 3965.0, 1723.0, 5048.0, 6922.0, 9858.0, 11331.0, 4016.0, 3957.0, 4510.0, 4276.0, 4968.0, 4677.0, 3523.0, 1821.0, 5222.0, 6872.0, 10803.0, 13916.0, 2639.0, 2899.0, 3370.0, 3740.0, 2927.0, 3986.0, 4217.0, 1738.0, 5221.0, 6424.0, 9842.0, 13076.0, 3934.0, 3162.0, 4286.0, 4676.0, 5010.0, 4874.0, 4633.0, 1659.0, 5951.0, 6981.0, 9851.0, 12670.0, 4348.0, 3564.0, 4577.0, 4788.0, 4618.0, 5312.0, 4298.0, 1413.0, 5877.0]}],                        {\"template\": {\"data\": {\"bar\": [{\"error_x\": {\"color\": \"#2a3f5f\"}, \"error_y\": {\"color\": \"#2a3f5f\"}, \"marker\": {\"line\": {\"color\": \"#E5ECF6\", \"width\": 0.5}}, \"type\": \"bar\"}], \"barpolar\": [{\"marker\": {\"line\": {\"color\": \"#E5ECF6\", \"width\": 0.5}}, \"type\": \"barpolar\"}], \"carpet\": [{\"aaxis\": {\"endlinecolor\": \"#2a3f5f\", \"gridcolor\": \"white\", \"linecolor\": \"white\", \"minorgridcolor\": \"white\", \"startlinecolor\": \"#2a3f5f\"}, \"baxis\": {\"endlinecolor\": \"#2a3f5f\", \"gridcolor\": \"white\", \"linecolor\": \"white\", \"minorgridcolor\": \"white\", \"startlinecolor\": \"#2a3f5f\"}, \"type\": \"carpet\"}], \"choropleth\": [{\"colorbar\": {\"outlinewidth\": 0, \"ticks\": \"\"}, \"type\": \"choropleth\"}], \"contour\": [{\"colorbar\": {\"outlinewidth\": 0, \"ticks\": \"\"}, \"colorscale\": [[0.0, \"#0d0887\"], [0.1111111111111111, \"#46039f\"], [0.2222222222222222, \"#7201a8\"], [0.3333333333333333, \"#9c179e\"], [0.4444444444444444, \"#bd3786\"], [0.5555555555555556, \"#d8576b\"], [0.6666666666666666, \"#ed7953\"], [0.7777777777777778, \"#fb9f3a\"], [0.8888888888888888, \"#fdca26\"], [1.0, \"#f0f921\"]], \"type\": \"contour\"}], \"contourcarpet\": [{\"colorbar\": {\"outlinewidth\": 0, \"ticks\": \"\"}, \"type\": \"contourcarpet\"}], \"heatmap\": [{\"colorbar\": {\"outlinewidth\": 0, \"ticks\": \"\"}, \"colorscale\": [[0.0, \"#0d0887\"], [0.1111111111111111, \"#46039f\"], [0.2222222222222222, \"#7201a8\"], [0.3333333333333333, \"#9c179e\"], [0.4444444444444444, \"#bd3786\"], [0.5555555555555556, \"#d8576b\"], [0.6666666666666666, \"#ed7953\"], [0.7777777777777778, \"#fb9f3a\"], [0.8888888888888888, \"#fdca26\"], [1.0, \"#f0f921\"]], \"type\": \"heatmap\"}], \"heatmapgl\": [{\"colorbar\": {\"outlinewidth\": 0, \"ticks\": \"\"}, \"colorscale\": [[0.0, \"#0d0887\"], [0.1111111111111111, \"#46039f\"], [0.2222222222222222, \"#7201a8\"], [0.3333333333333333, \"#9c179e\"], [0.4444444444444444, \"#bd3786\"], [0.5555555555555556, \"#d8576b\"], [0.6666666666666666, \"#ed7953\"], [0.7777777777777778, \"#fb9f3a\"], [0.8888888888888888, \"#fdca26\"], [1.0, \"#f0f921\"]], \"type\": \"heatmapgl\"}], \"histogram\": [{\"marker\": {\"colorbar\": {\"outlinewidth\": 0, \"ticks\": \"\"}}, \"type\": \"histogram\"}], \"histogram2d\": [{\"colorbar\": {\"outlinewidth\": 0, \"ticks\": \"\"}, \"colorscale\": [[0.0, \"#0d0887\"], [0.1111111111111111, \"#46039f\"], [0.2222222222222222, \"#7201a8\"], [0.3333333333333333, \"#9c179e\"], [0.4444444444444444, \"#bd3786\"], [0.5555555555555556, \"#d8576b\"], [0.6666666666666666, \"#ed7953\"], [0.7777777777777778, \"#fb9f3a\"], [0.8888888888888888, \"#fdca26\"], [1.0, \"#f0f921\"]], \"type\": \"histogram2d\"}], \"histogram2dcontour\": [{\"colorbar\": {\"outlinewidth\": 0, \"ticks\": \"\"}, \"colorscale\": [[0.0, \"#0d0887\"], [0.1111111111111111, \"#46039f\"], [0.2222222222222222, \"#7201a8\"], [0.3333333333333333, \"#9c179e\"], [0.4444444444444444, \"#bd3786\"], [0.5555555555555556, \"#d8576b\"], [0.6666666666666666, \"#ed7953\"], [0.7777777777777778, \"#fb9f3a\"], [0.8888888888888888, \"#fdca26\"], [1.0, \"#f0f921\"]], \"type\": \"histogram2dcontour\"}], \"mesh3d\": [{\"colorbar\": {\"outlinewidth\": 0, \"ticks\": \"\"}, \"type\": \"mesh3d\"}], \"parcoords\": [{\"line\": {\"colorbar\": {\"outlinewidth\": 0, \"ticks\": \"\"}}, \"type\": \"parcoords\"}], \"pie\": [{\"automargin\": true, \"type\": \"pie\"}], \"scatter\": [{\"marker\": {\"colorbar\": {\"outlinewidth\": 0, \"ticks\": \"\"}}, \"type\": \"scatter\"}], \"scatter3d\": [{\"line\": {\"colorbar\": {\"outlinewidth\": 0, \"ticks\": \"\"}}, \"marker\": {\"colorbar\": {\"outlinewidth\": 0, \"ticks\": \"\"}}, \"type\": \"scatter3d\"}], \"scattercarpet\": [{\"marker\": {\"colorbar\": {\"outlinewidth\": 0, \"ticks\": \"\"}}, \"type\": \"scattercarpet\"}], \"scattergeo\": [{\"marker\": {\"colorbar\": {\"outlinewidth\": 0, \"ticks\": \"\"}}, \"type\": \"scattergeo\"}], \"scattergl\": [{\"marker\": {\"colorbar\": {\"outlinewidth\": 0, \"ticks\": \"\"}}, \"type\": \"scattergl\"}], \"scattermapbox\": [{\"marker\": {\"colorbar\": {\"outlinewidth\": 0, \"ticks\": \"\"}}, \"type\": \"scattermapbox\"}], \"scatterpolar\": [{\"marker\": {\"colorbar\": {\"outlinewidth\": 0, \"ticks\": \"\"}}, \"type\": \"scatterpolar\"}], \"scatterpolargl\": [{\"marker\": {\"colorbar\": {\"outlinewidth\": 0, \"ticks\": \"\"}}, \"type\": \"scatterpolargl\"}], \"scatterternary\": [{\"marker\": {\"colorbar\": {\"outlinewidth\": 0, \"ticks\": \"\"}}, \"type\": \"scatterternary\"}], \"surface\": [{\"colorbar\": {\"outlinewidth\": 0, \"ticks\": \"\"}, \"colorscale\": [[0.0, \"#0d0887\"], [0.1111111111111111, \"#46039f\"], [0.2222222222222222, \"#7201a8\"], [0.3333333333333333, \"#9c179e\"], [0.4444444444444444, \"#bd3786\"], [0.5555555555555556, \"#d8576b\"], [0.6666666666666666, \"#ed7953\"], [0.7777777777777778, \"#fb9f3a\"], [0.8888888888888888, \"#fdca26\"], [1.0, \"#f0f921\"]], \"type\": \"surface\"}], \"table\": [{\"cells\": {\"fill\": {\"color\": \"#EBF0F8\"}, \"line\": {\"color\": \"white\"}}, \"header\": {\"fill\": {\"color\": \"#C8D4E3\"}, \"line\": {\"color\": \"white\"}}, \"type\": \"table\"}]}, \"layout\": {\"annotationdefaults\": {\"arrowcolor\": \"#2a3f5f\", \"arrowhead\": 0, \"arrowwidth\": 1}, \"autotypenumbers\": \"strict\", \"coloraxis\": {\"colorbar\": {\"outlinewidth\": 0, \"ticks\": \"\"}}, \"colorscale\": {\"diverging\": [[0, \"#8e0152\"], [0.1, \"#c51b7d\"], [0.2, \"#de77ae\"], [0.3, \"#f1b6da\"], [0.4, \"#fde0ef\"], [0.5, \"#f7f7f7\"], [0.6, \"#e6f5d0\"], [0.7, \"#b8e186\"], [0.8, \"#7fbc41\"], [0.9, \"#4d9221\"], [1, \"#276419\"]], \"sequential\": [[0.0, \"#0d0887\"], [0.1111111111111111, \"#46039f\"], [0.2222222222222222, \"#7201a8\"], [0.3333333333333333, \"#9c179e\"], [0.4444444444444444, \"#bd3786\"], [0.5555555555555556, \"#d8576b\"], [0.6666666666666666, \"#ed7953\"], [0.7777777777777778, \"#fb9f3a\"], [0.8888888888888888, \"#fdca26\"], [1.0, \"#f0f921\"]], \"sequentialminus\": [[0.0, \"#0d0887\"], [0.1111111111111111, \"#46039f\"], [0.2222222222222222, \"#7201a8\"], [0.3333333333333333, \"#9c179e\"], [0.4444444444444444, \"#bd3786\"], [0.5555555555555556, \"#d8576b\"], [0.6666666666666666, \"#ed7953\"], [0.7777777777777778, \"#fb9f3a\"], [0.8888888888888888, \"#fdca26\"], [1.0, \"#f0f921\"]]}, \"colorway\": [\"#636efa\", \"#EF553B\", \"#00cc96\", \"#ab63fa\", \"#FFA15A\", \"#19d3f3\", \"#FF6692\", \"#B6E880\", \"#FF97FF\", \"#FECB52\"], \"font\": {\"color\": \"#2a3f5f\"}, \"geo\": {\"bgcolor\": \"white\", \"lakecolor\": \"white\", \"landcolor\": \"#E5ECF6\", \"showlakes\": true, \"showland\": true, \"subunitcolor\": \"white\"}, \"hoverlabel\": {\"align\": \"left\"}, \"hovermode\": \"closest\", \"mapbox\": {\"style\": \"light\"}, \"paper_bgcolor\": \"white\", \"plot_bgcolor\": \"#E5ECF6\", \"polar\": {\"angularaxis\": {\"gridcolor\": \"white\", \"linecolor\": \"white\", \"ticks\": \"\"}, \"bgcolor\": \"#E5ECF6\", \"radialaxis\": {\"gridcolor\": \"white\", \"linecolor\": \"white\", \"ticks\": \"\"}}, \"scene\": {\"xaxis\": {\"backgroundcolor\": \"#E5ECF6\", \"gridcolor\": \"white\", \"gridwidth\": 2, \"linecolor\": \"white\", \"showbackground\": true, \"ticks\": \"\", \"zerolinecolor\": \"white\"}, \"yaxis\": {\"backgroundcolor\": \"#E5ECF6\", \"gridcolor\": \"white\", \"gridwidth\": 2, \"linecolor\": \"white\", \"showbackground\": true, \"ticks\": \"\", \"zerolinecolor\": \"white\"}, \"zaxis\": {\"backgroundcolor\": \"#E5ECF6\", \"gridcolor\": \"white\", \"gridwidth\": 2, \"linecolor\": \"white\", \"showbackground\": true, \"ticks\": \"\", \"zerolinecolor\": \"white\"}}, \"shapedefaults\": {\"line\": {\"color\": \"#2a3f5f\"}}, \"ternary\": {\"aaxis\": {\"gridcolor\": \"white\", \"linecolor\": \"white\", \"ticks\": \"\"}, \"baxis\": {\"gridcolor\": \"white\", \"linecolor\": \"white\", \"ticks\": \"\"}, \"bgcolor\": \"#E5ECF6\", \"caxis\": {\"gridcolor\": \"white\", \"linecolor\": \"white\", \"ticks\": \"\"}}, \"title\": {\"x\": 0.05}, \"xaxis\": {\"automargin\": true, \"gridcolor\": \"white\", \"linecolor\": \"white\", \"ticks\": \"\", \"title\": {\"standoff\": 15}, \"zerolinecolor\": \"white\", \"zerolinewidth\": 2}, \"yaxis\": {\"automargin\": true, \"gridcolor\": \"white\", \"linecolor\": \"white\", \"ticks\": \"\", \"title\": {\"standoff\": 15}, \"zerolinecolor\": \"white\", \"zerolinewidth\": 2}}}},                        {\"responsive\": true}                    ).then(function(){\n",
       "                            \n",
       "var gd = document.getElementById('ede2e77b-2abe-44fc-9de2-e6205cb9cbc7');\n",
       "var x = new MutationObserver(function (mutations, observer) {{\n",
       "        var display = window.getComputedStyle(gd).display;\n",
       "        if (!display || display === 'none') {{\n",
       "            console.log([gd, 'removed!']);\n",
       "            Plotly.purge(gd);\n",
       "            observer.disconnect();\n",
       "        }}\n",
       "}});\n",
       "\n",
       "// Listen for the removal of the full notebook cells\n",
       "var notebookContainer = gd.closest('#notebook-container');\n",
       "if (notebookContainer) {{\n",
       "    x.observe(notebookContainer, {childList: true});\n",
       "}}\n",
       "\n",
       "// Listen for the clearing of the current output cell\n",
       "var outputEl = gd.closest('.output');\n",
       "if (outputEl) {{\n",
       "    x.observe(outputEl, {childList: true});\n",
       "}}\n",
       "\n",
       "                        })                };                });            </script>        </div>"
      ]
     },
     "metadata": {},
     "output_type": "display_data"
    }
   ],
   "source": [
    "#go.scatter ile detaylı görsellştime sağlayabiliriz.Grafiğin üzerine geldiğimizde ay ve yıl bazında satışları görebiliriz.\n",
    "vis=go.Scatter(x=data.index, y=data.Sales)\n",
    "py.iplot([vis])"
   ]
  },
  {
   "cell_type": "markdown",
   "metadata": {
    "papermill": {
     "duration": 0.029091,
     "end_time": "2021-03-11T18:40:50.165809",
     "exception": false,
     "start_time": "2021-03-11T18:40:50.136718",
     "status": "completed"
    },
    "tags": []
   },
   "source": [
    "01-1964'ten 10-1972'ye kadar elimizde veri var.\n",
    "\n",
    "**Garifk Yorum** :Seride mevsimsellik var ve trend zamanla artıyor gibi duruyor.Mevsimsellikten kaynaklı durağan bir seri değil.Durağanlığı daha iyi anlamak için ADF testi yapılmalı."
   ]
  },
  {
   "cell_type": "code",
   "execution_count": 16,
   "metadata": {
    "execution": {
     "iopub.execute_input": "2021-03-11T18:40:50.230667Z",
     "iopub.status.busy": "2021-03-11T18:40:50.230018Z",
     "iopub.status.idle": "2021-03-11T18:40:50.851415Z",
     "shell.execute_reply": "2021-03-11T18:40:50.851836Z"
    },
    "papermill": {
     "duration": 0.656664,
     "end_time": "2021-03-11T18:40:50.852003",
     "exception": false,
     "start_time": "2021-03-11T18:40:50.195339",
     "status": "completed"
    },
    "tags": []
   },
   "outputs": [
    {
     "data": {
      "image/png": "[encoded data removed]",
      "text/plain": [
       "<Figure size 1080x720 with 4 Axes>"
      ]
     },
     "metadata": {
      "needs_background": "light"
     },
     "output_type": "display_data"
    }
   ],
   "source": [
    "decomp = seasonal_decompose(data['Sales'], model='multiplicative')\n",
    "fig=decomp.plot()\n",
    "fig.set_size_inches(15,10)\n",
    "fig.suptitle('Decomposition plot')\n",
    "plt.show()"
   ]
  },
  {
   "cell_type": "markdown",
   "metadata": {
    "papermill": {
     "duration": 0.030591,
     "end_time": "2021-03-11T18:40:50.914241",
     "exception": false,
     "start_time": "2021-03-11T18:40:50.883650",
     "status": "completed"
    },
    "tags": []
   },
   "source": [
    "# ADF Test #"
   ]
  },
  {
   "cell_type": "code",
   "execution_count": 17,
   "metadata": {
    "execution": {
     "iopub.execute_input": "2021-03-11T18:40:50.983073Z",
     "iopub.status.busy": "2021-03-11T18:40:50.982437Z",
     "iopub.status.idle": "2021-03-11T18:40:51.007646Z",
     "shell.execute_reply": "2021-03-11T18:40:51.008074Z"
    },
    "papermill": {
     "duration": 0.063056,
     "end_time": "2021-03-11T18:40:51.008246",
     "exception": false,
     "start_time": "2021-03-11T18:40:50.945190",
     "status": "completed"
    },
    "tags": []
   },
   "outputs": [
    {
     "name": "stdout",
     "output_type": "stream",
     "text": [
      "Dickey-Fuller Test Sonucu:\n",
      "Test İstatistiği      -1.833593\n",
      "p-value                0.363916\n",
      "#Lags                 11.000000\n",
      "Gözlem sayısı         93.000000\n",
      "Kritik Değer (1%)     -3.502705\n",
      "Kritik Değer (5%)     -2.893158\n",
      "Kritik Değer (10%)    -2.583637\n",
      "dtype: float64\n"
     ]
    }
   ],
   "source": [
    "#H0:Zaman serisinin bir birim kökü var, yani seri durağan değil.\n",
    "#H1:Zaman serisinin bir birim kökü yok, yani seri durağandır.\n",
    "\n",
    "def adf_test(timeseries):\n",
    "    \n",
    "    print ('Dickey-Fuller Test Sonucu:')\n",
    "    dftest = adfuller(timeseries, autolag='AIC')\n",
    "    dfoutput = pd.Series(dftest[0:4], index=['Test İstatistiği','p-value','#Lags ','Gözlem sayısı'])\n",
    "    for key,value in dftest[4].items():\n",
    "       dfoutput['Kritik Değer (%s)'%key] = value\n",
    "    print (dfoutput)\n",
    "\n",
    "\n",
    "adf_test(data['Sales'])"
   ]
  },
  {
   "cell_type": "markdown",
   "metadata": {
    "papermill": {
     "duration": 0.031453,
     "end_time": "2021-03-11T18:40:51.071728",
     "exception": false,
     "start_time": "2021-03-11T18:40:51.040275",
     "status": "completed"
    },
    "tags": []
   },
   "source": [
    "* Durağanlık Testi sonucuna göre  p-değeri> 0.05 olduğundan H0 reddedilemez (yani kabul),verinin bir birim kökü vardır ve seri durağan değildir.(aynı zamanada test istatistiği de kritik değerden büyük)\n"
   ]
  },
  {
   "cell_type": "markdown",
   "metadata": {
    "papermill": {
     "duration": 0.032023,
     "end_time": "2021-03-11T18:40:51.135498",
     "exception": false,
     "start_time": "2021-03-11T18:40:51.103475",
     "status": "completed"
    },
    "tags": []
   },
   "source": [
    "# SARIMA modeli"
   ]
  },
  {
   "cell_type": "markdown",
   "metadata": {
    "papermill": {
     "duration": 0.031778,
     "end_time": "2021-03-11T18:40:51.199262",
     "exception": false,
     "start_time": "2021-03-11T18:40:51.167484",
     "status": "completed"
    },
    "tags": []
   },
   "source": [
    "Seride mevsimsellik var bu yüzden ARIMA yerine SARIMA (Mevsimsel ARIMA) kullanılacak.Hem veride tek bir değişken var ve SARIMA tek değişkenli zaman serisi verilerini mevsimsel bir bileşenle desteklediğinden uygun bir model olacaktır."
   ]
  },
  {
   "cell_type": "code",
   "execution_count": 18,
   "metadata": {
    "_kg_hide-output": true,
    "execution": {
     "iopub.execute_input": "2021-03-11T18:40:51.266576Z",
     "iopub.status.busy": "2021-03-11T18:40:51.265944Z",
     "iopub.status.idle": "2021-03-11T18:41:12.831470Z",
     "shell.execute_reply": "2021-03-11T18:41:12.832020Z"
    },
    "papermill": {
     "duration": 21.601311,
     "end_time": "2021-03-11T18:41:12.832194",
     "exception": false,
     "start_time": "2021-03-11T18:40:51.230883",
     "status": "completed"
    },
    "tags": []
   },
   "outputs": [
    {
     "name": "stdout",
     "output_type": "stream",
     "text": [
      "Collecting pmdarima\r\n",
      "  Downloading pmdarima-1.8.0-cp37-cp37m-manylinux1_x86_64.whl (1.5 MB)\r\n",
      "\u001b[K     |████████████████████████████████| 1.5 MB 1.3 MB/s \r\n",
      "\u001b[?25hRequirement already satisfied: scikit-learn>=0.22 in /opt/conda/lib/python3.7/site-packages (from pmdarima) (0.23.2)\r\n",
      "Requirement already satisfied: numpy>=1.17.3 in /opt/conda/lib/python3.7/site-packages (from pmdarima) (1.19.5)\r\n",
      "Requirement already satisfied: scipy>=1.3.2 in /opt/conda/lib/python3.7/site-packages (from pmdarima) (1.4.1)\r\n",
      "Requirement already satisfied: setuptools!=50.0.0,>=38.6.0 in /opt/conda/lib/python3.7/site-packages (from pmdarima) (49.6.0.post20201009)\r\n",
      "Requirement already satisfied: pandas>=0.19 in /opt/conda/lib/python3.7/site-packages (from pmdarima) (1.2.0)\r\n",
      "Requirement already satisfied: urllib3 in /opt/conda/lib/python3.7/site-packages (from pmdarima) (1.26.2)\r\n",
      "Requirement already satisfied: joblib>=0.11 in /opt/conda/lib/python3.7/site-packages (from pmdarima) (1.0.0)\r\n",
      "Requirement already satisfied: statsmodels!=0.12.0,>=0.11 in /opt/conda/lib/python3.7/site-packages (from pmdarima) (0.12.1)\r\n",
      "Collecting Cython<0.29.18,>=0.29\r\n",
      "  Downloading Cython-0.29.17-cp37-cp37m-manylinux1_x86_64.whl (2.1 MB)\r\n",
      "\u001b[K     |████████████████████████████████| 2.1 MB 6.9 MB/s \r\n",
      "\u001b[?25hRequirement already satisfied: python-dateutil>=2.7.3 in /opt/conda/lib/python3.7/site-packages (from pandas>=0.19->pmdarima) (2.8.1)\r\n",
      "Requirement already satisfied: pytz>=2017.3 in /opt/conda/lib/python3.7/site-packages (from pandas>=0.19->pmdarima) (2020.5)\r\n",
      "Requirement already satisfied: six>=1.5 in /opt/conda/lib/python3.7/site-packages (from python-dateutil>=2.7.3->pandas>=0.19->pmdarima) (1.15.0)\r\n",
      "Requirement already satisfied: threadpoolctl>=2.0.0 in /opt/conda/lib/python3.7/site-packages (from scikit-learn>=0.22->pmdarima) (2.1.0)\r\n",
      "Requirement already satisfied: patsy>=0.5 in /opt/conda/lib/python3.7/site-packages (from statsmodels!=0.12.0,>=0.11->pmdarima) (0.5.1)\r\n",
      "Installing collected packages: Cython, pmdarima\r\n",
      "  Attempting uninstall: Cython\r\n",
      "    Found existing installation: Cython 0.29.21\r\n",
      "    Uninstalling Cython-0.29.21:\r\n",
      "      Successfully uninstalled Cython-0.29.21\r\n",
      "\u001b[31mERROR: pip's dependency resolver does not currently take into account all the packages that are installed. This behaviour is the source of the following dependency conflicts.\r\n",
      "autogluon-core 0.1.0b20210210 requires numpy==1.19, but you have numpy 1.19.5 which is incompatible.\u001b[0m\r\n",
      "Successfully installed Cython-0.29.17 pmdarima-1.8.0\r\n",
      "Note: you may need to restart the kernel to use updated packages.\n"
     ]
    }
   ],
   "source": [
    "pip install pmdarima"
   ]
  },
  {
   "cell_type": "code",
   "execution_count": 19,
   "metadata": {
    "execution": {
     "iopub.execute_input": "2021-03-11T18:41:12.914480Z",
     "iopub.status.busy": "2021-03-11T18:41:12.913939Z",
     "iopub.status.idle": "2021-03-11T18:41:21.369237Z",
     "shell.execute_reply": "2021-03-11T18:41:21.370379Z"
    },
    "papermill": {
     "duration": 8.500537,
     "end_time": "2021-03-11T18:41:21.370658",
     "exception": false,
     "start_time": "2021-03-11T18:41:12.870121",
     "status": "completed"
    },
    "tags": []
   },
   "outputs": [
    {
     "data": {
      "text/html": [
       "<table class=\"simpletable\">\n",
       "<caption>SARIMAX Results</caption>\n",
       "<tr>\n",
       "  <th>Dep. Variable:</th>                  <td>y</td>                <th>  No. Observations:  </th>    <td>105</td>  \n",
       "</tr>\n",
       "<tr>\n",
       "  <th>Model:</th>           <td>SARIMAX(0, 0, 1)x(1, 1, [], 12)</td> <th>  Log Likelihood     </th> <td>-745.083</td>\n",
       "</tr>\n",
       "<tr>\n",
       "  <th>Date:</th>                   <td>Thu, 11 Mar 2021</td>         <th>  AIC                </th> <td>1498.167</td>\n",
       "</tr>\n",
       "<tr>\n",
       "  <th>Time:</th>                       <td>18:41:21</td>             <th>  BIC                </th> <td>1508.297</td>\n",
       "</tr>\n",
       "<tr>\n",
       "  <th>Sample:</th>                         <td>0</td>                <th>  HQIC               </th> <td>1502.257</td>\n",
       "</tr>\n",
       "<tr>\n",
       "  <th></th>                             <td> - 105</td>              <th>                     </th>     <td> </td>   \n",
       "</tr>\n",
       "<tr>\n",
       "  <th>Covariance Type:</th>               <td>opg</td>               <th>                     </th>     <td> </td>   \n",
       "</tr>\n",
       "</table>\n",
       "<table class=\"simpletable\">\n",
       "<tr>\n",
       "      <td></td>         <th>coef</th>     <th>std err</th>      <th>z</th>      <th>P>|z|</th>  <th>[0.025</th>    <th>0.975]</th>  \n",
       "</tr>\n",
       "<tr>\n",
       "  <th>intercept</th> <td>  362.8395</td> <td>  100.620</td> <td>    3.606</td> <td> 0.000</td> <td>  165.628</td> <td>  560.051</td>\n",
       "</tr>\n",
       "<tr>\n",
       "  <th>ma.L1</th>     <td>    0.2191</td> <td>    0.074</td> <td>    2.970</td> <td> 0.003</td> <td>    0.075</td> <td>    0.364</td>\n",
       "</tr>\n",
       "<tr>\n",
       "  <th>ar.S.L12</th>  <td>   -0.1784</td> <td>    0.082</td> <td>   -2.186</td> <td> 0.029</td> <td>   -0.338</td> <td>   -0.018</td>\n",
       "</tr>\n",
       "<tr>\n",
       "  <th>sigma2</th>    <td> 5.135e+05</td> <td> 5.75e+04</td> <td>    8.924</td> <td> 0.000</td> <td> 4.01e+05</td> <td> 6.26e+05</td>\n",
       "</tr>\n",
       "</table>\n",
       "<table class=\"simpletable\">\n",
       "<tr>\n",
       "  <th>Ljung-Box (L1) (Q):</th>     <td>0.36</td> <th>  Jarque-Bera (JB):  </th> <td>8.20</td> \n",
       "</tr>\n",
       "<tr>\n",
       "  <th>Prob(Q):</th>                <td>0.55</td> <th>  Prob(JB):          </th> <td>0.02</td> \n",
       "</tr>\n",
       "<tr>\n",
       "  <th>Heteroskedasticity (H):</th> <td>1.27</td> <th>  Skew:              </th> <td>-0.15</td>\n",
       "</tr>\n",
       "<tr>\n",
       "  <th>Prob(H) (two-sided):</th>    <td>0.50</td> <th>  Kurtosis:          </th> <td>4.42</td> \n",
       "</tr>\n",
       "</table><br/><br/>Warnings:<br/>[1] Covariance matrix calculated using the outer product of gradients (complex-step)."
      ],
      "text/plain": [
       "<class 'statsmodels.iolib.summary.Summary'>\n",
       "\"\"\"\n",
       "                                      SARIMAX Results                                      \n",
       "===========================================================================================\n",
       "Dep. Variable:                                   y   No. Observations:                  105\n",
       "Model:             SARIMAX(0, 0, 1)x(1, 1, [], 12)   Log Likelihood                -745.083\n",
       "Date:                             Thu, 11 Mar 2021   AIC                           1498.167\n",
       "Time:                                     18:41:21   BIC                           1508.297\n",
       "Sample:                                          0   HQIC                          1502.257\n",
       "                                             - 105                                         \n",
       "Covariance Type:                               opg                                         \n",
       "==============================================================================\n",
       "                 coef    std err          z      P>|z|      [0.025      0.975]\n",
       "------------------------------------------------------------------------------\n",
       "intercept    362.8395    100.620      3.606      0.000     165.628     560.051\n",
       "ma.L1          0.2191      0.074      2.970      0.003       0.075       0.364\n",
       "ar.S.L12      -0.1784      0.082     -2.186      0.029      -0.338      -0.018\n",
       "sigma2      5.135e+05   5.75e+04      8.924      0.000    4.01e+05    6.26e+05\n",
       "===================================================================================\n",
       "Ljung-Box (L1) (Q):                   0.36   Jarque-Bera (JB):                 8.20\n",
       "Prob(Q):                              0.55   Prob(JB):                         0.02\n",
       "Heteroskedasticity (H):               1.27   Skew:                            -0.15\n",
       "Prob(H) (two-sided):                  0.50   Kurtosis:                         4.42\n",
       "===================================================================================\n",
       "\n",
       "Warnings:\n",
       "[1] Covariance matrix calculated using the outer product of gradients (complex-step).\n",
       "\"\"\""
      ]
     },
     "execution_count": 19,
     "metadata": {},
     "output_type": "execute_result"
    }
   ],
   "source": [
    "from pmdarima.arima import auto_arima\n",
    "\n",
    "auto_arima(data['Sales'], seasonal=True, m=12,start_p=0, \n",
    "           start_q=0, max_P=5, max_D=5,max_Q=5).summary()"
   ]
  },
  {
   "cell_type": "markdown",
   "metadata": {
    "papermill": {
     "duration": 0.042837,
     "end_time": "2021-03-11T18:41:21.486833",
     "exception": false,
     "start_time": "2021-03-11T18:41:21.443996",
     "status": "completed"
    },
    "tags": []
   },
   "source": [
    "# Train/Test Ayrımı\n",
    "**Son 12 aylık veri test olarak kalan veri de train olarak ayrıldı.Tahmin 12 aylığı kapsayacak yani Ekim 1972'den Eylül 1973'e kadar.**"
   ]
  },
  {
   "cell_type": "code",
   "execution_count": 20,
   "metadata": {
    "execution": {
     "iopub.execute_input": "2021-03-11T18:41:21.568567Z",
     "iopub.status.busy": "2021-03-11T18:41:21.567946Z",
     "iopub.status.idle": "2021-03-11T18:41:21.570546Z",
     "shell.execute_reply": "2021-03-11T18:41:21.569968Z"
    },
    "papermill": {
     "duration": 0.045636,
     "end_time": "2021-03-11T18:41:21.570689",
     "exception": false,
     "start_time": "2021-03-11T18:41:21.525053",
     "status": "completed"
    },
    "tags": []
   },
   "outputs": [],
   "source": [
    "train = data[:len(data)-12]\n",
    "test= data[len(data)-12:]"
   ]
  },
  {
   "cell_type": "code",
   "execution_count": 21,
   "metadata": {
    "execution": {
     "iopub.execute_input": "2021-03-11T18:41:21.650499Z",
     "iopub.status.busy": "2021-03-11T18:41:21.649928Z",
     "iopub.status.idle": "2021-03-11T18:41:21.660019Z",
     "shell.execute_reply": "2021-03-11T18:41:21.660564Z"
    },
    "papermill": {
     "duration": 0.051331,
     "end_time": "2021-03-11T18:41:21.660736",
     "exception": false,
     "start_time": "2021-03-11T18:41:21.609405",
     "status": "completed"
    },
    "tags": []
   },
   "outputs": [
    {
     "data": {
      "text/html": [
       "<div>\n",
       "<style scoped>\n",
       "    .dataframe tbody tr th:only-of-type {\n",
       "        vertical-align: middle;\n",
       "    }\n",
       "\n",
       "    .dataframe tbody tr th {\n",
       "        vertical-align: top;\n",
       "    }\n",
       "\n",
       "    .dataframe thead th {\n",
       "        text-align: right;\n",
       "    }\n",
       "</style>\n",
       "<table border=\"1\" class=\"dataframe\">\n",
       "  <thead>\n",
       "    <tr style=\"text-align: right;\">\n",
       "      <th></th>\n",
       "      <th>Sales</th>\n",
       "    </tr>\n",
       "    <tr>\n",
       "      <th>Month</th>\n",
       "      <th></th>\n",
       "    </tr>\n",
       "  </thead>\n",
       "  <tbody>\n",
       "    <tr>\n",
       "      <th>1971-10-01</th>\n",
       "      <td>6981.0</td>\n",
       "    </tr>\n",
       "    <tr>\n",
       "      <th>1971-11-01</th>\n",
       "      <td>9851.0</td>\n",
       "    </tr>\n",
       "    <tr>\n",
       "      <th>1971-12-01</th>\n",
       "      <td>12670.0</td>\n",
       "    </tr>\n",
       "    <tr>\n",
       "      <th>1972-01-01</th>\n",
       "      <td>4348.0</td>\n",
       "    </tr>\n",
       "    <tr>\n",
       "      <th>1972-02-01</th>\n",
       "      <td>3564.0</td>\n",
       "    </tr>\n",
       "    <tr>\n",
       "      <th>1972-03-01</th>\n",
       "      <td>4577.0</td>\n",
       "    </tr>\n",
       "    <tr>\n",
       "      <th>1972-04-01</th>\n",
       "      <td>4788.0</td>\n",
       "    </tr>\n",
       "    <tr>\n",
       "      <th>1972-05-01</th>\n",
       "      <td>4618.0</td>\n",
       "    </tr>\n",
       "    <tr>\n",
       "      <th>1972-06-01</th>\n",
       "      <td>5312.0</td>\n",
       "    </tr>\n",
       "    <tr>\n",
       "      <th>1972-07-01</th>\n",
       "      <td>4298.0</td>\n",
       "    </tr>\n",
       "    <tr>\n",
       "      <th>1972-08-01</th>\n",
       "      <td>1413.0</td>\n",
       "    </tr>\n",
       "    <tr>\n",
       "      <th>1972-09-01</th>\n",
       "      <td>5877.0</td>\n",
       "    </tr>\n",
       "  </tbody>\n",
       "</table>\n",
       "</div>"
      ],
      "text/plain": [
       "              Sales\n",
       "Month              \n",
       "1971-10-01   6981.0\n",
       "1971-11-01   9851.0\n",
       "1971-12-01  12670.0\n",
       "1972-01-01   4348.0\n",
       "1972-02-01   3564.0\n",
       "1972-03-01   4577.0\n",
       "1972-04-01   4788.0\n",
       "1972-05-01   4618.0\n",
       "1972-06-01   5312.0\n",
       "1972-07-01   4298.0\n",
       "1972-08-01   1413.0\n",
       "1972-09-01   5877.0"
      ]
     },
     "execution_count": 21,
     "metadata": {},
     "output_type": "execute_result"
    }
   ],
   "source": [
    "test"
   ]
  },
  {
   "cell_type": "code",
   "execution_count": 22,
   "metadata": {
    "execution": {
     "iopub.execute_input": "2021-03-11T18:41:21.741533Z",
     "iopub.status.busy": "2021-03-11T18:41:21.740953Z",
     "iopub.status.idle": "2021-03-11T18:41:21.984918Z",
     "shell.execute_reply": "2021-03-11T18:41:21.985727Z"
    },
    "papermill": {
     "duration": 0.286546,
     "end_time": "2021-03-11T18:41:21.985976",
     "exception": false,
     "start_time": "2021-03-11T18:41:21.699430",
     "status": "completed"
    },
    "tags": []
   },
   "outputs": [
    {
     "data": {
      "text/html": [
       "<table class=\"simpletable\">\n",
       "<caption>SARIMAX Results</caption>\n",
       "<tr>\n",
       "  <th>Dep. Variable:</th>                <td>Sales</td>              <th>  No. Observations:  </th>    <td>93</td>   \n",
       "</tr>\n",
       "<tr>\n",
       "  <th>Model:</th>           <td>SARIMAX(0, 0, 1)x(1, 1, [], 12)</td> <th>  Log Likelihood     </th> <td>-658.802</td>\n",
       "</tr>\n",
       "<tr>\n",
       "  <th>Date:</th>                   <td>Thu, 11 Mar 2021</td>         <th>  AIC                </th> <td>1323.604</td>\n",
       "</tr>\n",
       "<tr>\n",
       "  <th>Time:</th>                       <td>18:41:21</td>             <th>  BIC                </th> <td>1330.787</td>\n",
       "</tr>\n",
       "<tr>\n",
       "  <th>Sample:</th>                    <td>01-01-1964</td>            <th>  HQIC               </th> <td>1326.486</td>\n",
       "</tr>\n",
       "<tr>\n",
       "  <th></th>                          <td>- 09-01-1971</td>           <th>                     </th>     <td> </td>   \n",
       "</tr>\n",
       "<tr>\n",
       "  <th>Covariance Type:</th>               <td>opg</td>               <th>                     </th>     <td> </td>   \n",
       "</tr>\n",
       "</table>\n",
       "<table class=\"simpletable\">\n",
       "<tr>\n",
       "      <td></td>        <th>coef</th>     <th>std err</th>      <th>z</th>      <th>P>|z|</th>  <th>[0.025</th>    <th>0.975]</th>  \n",
       "</tr>\n",
       "<tr>\n",
       "  <th>ma.L1</th>    <td>    0.2631</td> <td>    0.091</td> <td>    2.887</td> <td> 0.004</td> <td>    0.084</td> <td>    0.442</td>\n",
       "</tr>\n",
       "<tr>\n",
       "  <th>ar.S.L12</th> <td>   -0.0654</td> <td>    0.088</td> <td>   -0.743</td> <td> 0.458</td> <td>   -0.238</td> <td>    0.107</td>\n",
       "</tr>\n",
       "<tr>\n",
       "  <th>sigma2</th>   <td> 6.639e+05</td> <td> 8.97e+04</td> <td>    7.401</td> <td> 0.000</td> <td> 4.88e+05</td> <td>  8.4e+05</td>\n",
       "</tr>\n",
       "</table>\n",
       "<table class=\"simpletable\">\n",
       "<tr>\n",
       "  <th>Ljung-Box (L1) (Q):</th>     <td>0.10</td> <th>  Jarque-Bera (JB):  </th> <td>7.33</td> \n",
       "</tr>\n",
       "<tr>\n",
       "  <th>Prob(Q):</th>                <td>0.76</td> <th>  Prob(JB):          </th> <td>0.03</td> \n",
       "</tr>\n",
       "<tr>\n",
       "  <th>Heteroskedasticity (H):</th> <td>1.75</td> <th>  Skew:              </th> <td>-0.29</td>\n",
       "</tr>\n",
       "<tr>\n",
       "  <th>Prob(H) (two-sided):</th>    <td>0.15</td> <th>  Kurtosis:          </th> <td>4.35</td> \n",
       "</tr>\n",
       "</table><br/><br/>Warnings:<br/>[1] Covariance matrix calculated using the outer product of gradients (complex-step)."
      ],
      "text/plain": [
       "<class 'statsmodels.iolib.summary.Summary'>\n",
       "\"\"\"\n",
       "                                      SARIMAX Results                                      \n",
       "===========================================================================================\n",
       "Dep. Variable:                               Sales   No. Observations:                   93\n",
       "Model:             SARIMAX(0, 0, 1)x(1, 1, [], 12)   Log Likelihood                -658.802\n",
       "Date:                             Thu, 11 Mar 2021   AIC                           1323.604\n",
       "Time:                                     18:41:21   BIC                           1330.787\n",
       "Sample:                                 01-01-1964   HQIC                          1326.486\n",
       "                                      - 09-01-1971                                         \n",
       "Covariance Type:                               opg                                         \n",
       "==============================================================================\n",
       "                 coef    std err          z      P>|z|      [0.025      0.975]\n",
       "------------------------------------------------------------------------------\n",
       "ma.L1          0.2631      0.091      2.887      0.004       0.084       0.442\n",
       "ar.S.L12      -0.0654      0.088     -0.743      0.458      -0.238       0.107\n",
       "sigma2      6.639e+05   8.97e+04      7.401      0.000    4.88e+05     8.4e+05\n",
       "===================================================================================\n",
       "Ljung-Box (L1) (Q):                   0.10   Jarque-Bera (JB):                 7.33\n",
       "Prob(Q):                              0.76   Prob(JB):                         0.03\n",
       "Heteroskedasticity (H):               1.75   Skew:                            -0.29\n",
       "Prob(H) (two-sided):                  0.15   Kurtosis:                         4.35\n",
       "===================================================================================\n",
       "\n",
       "Warnings:\n",
       "[1] Covariance matrix calculated using the outer product of gradients (complex-step).\n",
       "\"\"\""
      ]
     },
     "execution_count": 22,
     "metadata": {},
     "output_type": "execute_result"
    }
   ],
   "source": [
    "arima_model = SARIMAX(train['Sales'], order = (0,0,1),\n",
    "                      seasonal_order = (1,1,[],12))\n",
    "arima_result = arima_model.fit()\n",
    "arima_result.summary()"
   ]
  },
  {
   "cell_type": "code",
   "execution_count": 23,
   "metadata": {
    "execution": {
     "iopub.execute_input": "2021-03-11T18:41:22.115672Z",
     "iopub.status.busy": "2021-03-11T18:41:22.115029Z",
     "iopub.status.idle": "2021-03-11T18:41:22.390949Z",
     "shell.execute_reply": "2021-03-11T18:41:22.390499Z"
    },
    "papermill": {
     "duration": 0.328723,
     "end_time": "2021-03-11T18:41:22.391080",
     "exception": false,
     "start_time": "2021-03-11T18:41:22.062357",
     "status": "completed"
    },
    "tags": []
   },
   "outputs": [
    {
     "data": {
      "image/png": "[encoded data removed]",
      "text/plain": [
       "<Figure size 1080x432 with 1 Axes>"
      ]
     },
     "metadata": {
      "needs_background": "light"
     },
     "output_type": "display_data"
    }
   ],
   "source": [
    "sarima_pred = arima_result.predict(start = len(train), end = len(data)-1, typ=\"levels\").rename(\"SARIMA Tahmini\")\n",
    "\n",
    "data['Sales'].plot(figsize = (15,6), legend=True)\n",
    "sarima_pred.plot(legend = True);"
   ]
  },
  {
   "cell_type": "code",
   "execution_count": 24,
   "metadata": {
    "execution": {
     "iopub.execute_input": "2021-03-11T18:41:22.497968Z",
     "iopub.status.busy": "2021-03-11T18:41:22.494640Z",
     "iopub.status.idle": "2021-03-11T18:41:22.684992Z",
     "shell.execute_reply": "2021-03-11T18:41:22.684462Z"
    },
    "papermill": {
     "duration": 0.252388,
     "end_time": "2021-03-11T18:41:22.685132",
     "exception": false,
     "start_time": "2021-03-11T18:41:22.432744",
     "status": "completed"
    },
    "tags": []
   },
   "outputs": [
    {
     "name": "stdout",
     "output_type": "stream",
     "text": [
      "RMSE: 337.567\n"
     ]
    },
    {
     "data": {
      "image/png": "[encoded data removed]",
      "text/plain": [
       "<Figure size 1080x360 with 1 Axes>"
      ]
     },
     "metadata": {
      "needs_background": "light"
     },
     "output_type": "display_data"
    }
   ],
   "source": [
    "test['Sales'].plot(figsize = (15,5), legend=True)\n",
    "sarima_pred.plot(legend = True);\n",
    "rmse_sarima = rmse(test['Sales'], sarima_pred)\n",
    "print('RMSE: %.3f' % rmse_sarima)"
   ]
  },
  {
   "cell_type": "code",
   "execution_count": 25,
   "metadata": {
    "execution": {
     "iopub.execute_input": "2021-03-11T18:41:22.775810Z",
     "iopub.status.busy": "2021-03-11T18:41:22.775232Z",
     "iopub.status.idle": "2021-03-11T18:41:22.780188Z",
     "shell.execute_reply": "2021-03-11T18:41:22.779643Z"
    },
    "papermill": {
     "duration": 0.052158,
     "end_time": "2021-03-11T18:41:22.780311",
     "exception": false,
     "start_time": "2021-03-11T18:41:22.728153",
     "status": "completed"
    },
    "tags": []
   },
   "outputs": [
    {
     "data": {
      "text/plain": [
       "105"
      ]
     },
     "execution_count": 25,
     "metadata": {},
     "output_type": "execute_result"
    }
   ],
   "source": [
    "len(data)"
   ]
  },
  {
   "cell_type": "code",
   "execution_count": 26,
   "metadata": {
    "execution": {
     "iopub.execute_input": "2021-03-11T18:41:22.876950Z",
     "iopub.status.busy": "2021-03-11T18:41:22.875638Z",
     "iopub.status.idle": "2021-03-11T18:41:23.157182Z",
     "shell.execute_reply": "2021-03-11T18:41:23.157681Z"
    },
    "papermill": {
     "duration": 0.333903,
     "end_time": "2021-03-11T18:41:23.157865",
     "exception": false,
     "start_time": "2021-03-11T18:41:22.823962",
     "status": "completed"
    },
    "tags": []
   },
   "outputs": [
    {
     "data": {
      "image/png": "[encoded data removed]",
      "text/plain": [
       "<Figure size 1080x432 with 1 Axes>"
      ]
     },
     "metadata": {
      "needs_background": "light"
     },
     "output_type": "display_data"
    }
   ],
   "source": [
    "yeni_sarima_tahmin = arima_result.predict(start =104 , end = 116, dynamic= True).rename(\"SARIMA Tahmini\")  \n",
    "data['Sales'].plot(figsize = (15,6), legend=True)\n",
    "yeni_sarima_tahmin.plot(legend = True);"
   ]
  },
  {
   "cell_type": "markdown",
   "metadata": {
    "papermill": {
     "duration": 0.045232,
     "end_time": "2021-03-11T18:41:23.250103",
     "exception": false,
     "start_time": "2021-03-11T18:41:23.204871",
     "status": "completed"
    },
    "tags": []
   },
   "source": [
    "# LSTM ile Tahmin"
   ]
  },
  {
   "cell_type": "code",
   "execution_count": 27,
   "metadata": {
    "execution": {
     "iopub.execute_input": "2021-03-11T18:41:23.347416Z",
     "iopub.status.busy": "2021-03-11T18:41:23.346734Z",
     "iopub.status.idle": "2021-03-11T18:41:23.349768Z",
     "shell.execute_reply": "2021-03-11T18:41:23.349174Z"
    },
    "papermill": {
     "duration": 0.054408,
     "end_time": "2021-03-11T18:41:23.349898",
     "exception": false,
     "start_time": "2021-03-11T18:41:23.295490",
     "status": "completed"
    },
    "tags": []
   },
   "outputs": [],
   "source": [
    "scaler = MinMaxScaler(feature_range=(0,1))\n",
    "scaled_train=scaler.fit_transform(np.array(train).reshape(-1,1))\n",
    "scaled_test = scaler.transform(np.array(test).reshape(-1,1))"
   ]
  },
  {
   "cell_type": "code",
   "execution_count": 28,
   "metadata": {
    "execution": {
     "iopub.execute_input": "2021-03-11T18:41:23.446384Z",
     "iopub.status.busy": "2021-03-11T18:41:23.445455Z",
     "iopub.status.idle": "2021-03-11T18:41:23.449826Z",
     "shell.execute_reply": "2021-03-11T18:41:23.449379Z"
    },
    "papermill": {
     "duration": 0.054407,
     "end_time": "2021-03-11T18:41:23.449957",
     "exception": false,
     "start_time": "2021-03-11T18:41:23.395550",
     "status": "completed"
    },
    "tags": []
   },
   "outputs": [
    {
     "data": {
      "text/plain": [
       "((12, 1), (93, 1))"
      ]
     },
     "execution_count": 28,
     "metadata": {},
     "output_type": "execute_result"
    }
   ],
   "source": [
    "scaled_test.shape,scaled_train.shape"
   ]
  },
  {
   "cell_type": "code",
   "execution_count": 29,
   "metadata": {
    "execution": {
     "iopub.execute_input": "2021-03-11T18:41:23.550177Z",
     "iopub.status.busy": "2021-03-11T18:41:23.549448Z",
     "iopub.status.idle": "2021-03-11T18:41:23.799237Z",
     "shell.execute_reply": "2021-03-11T18:41:23.798667Z"
    },
    "papermill": {
     "duration": 0.302944,
     "end_time": "2021-03-11T18:41:23.799367",
     "exception": false,
     "start_time": "2021-03-11T18:41:23.496423",
     "status": "completed"
    },
    "tags": []
   },
   "outputs": [
    {
     "name": "stdout",
     "output_type": "stream",
     "text": [
      "Model: \"sequential\"\n",
      "_________________________________________________________________\n",
      "Layer (type)                 Output Shape              Param #   \n",
      "=================================================================\n",
      "lstm (LSTM)                  (None, 300)               362400    \n",
      "_________________________________________________________________\n",
      "dense (Dense)                (None, 1)                 301       \n",
      "=================================================================\n",
      "Total params: 362,701\n",
      "Trainable params: 362,701\n",
      "Non-trainable params: 0\n",
      "_________________________________________________________________\n"
     ]
    }
   ],
   "source": [
    "n_input = 12\n",
    "n_features= 1\n",
    "generator = TimeseriesGenerator(scaled_train, scaled_train, length=n_input,\n",
    "                                batch_size=1)\n",
    "model = Sequential()\n",
    "model.add(LSTM(300, activation='relu', input_shape=(12, 1)))\n",
    "model.add(Dense(1))\n",
    "model.compile(optimizer='adam', loss='mse')\n",
    "\n",
    "model.summary()"
   ]
  },
  {
   "cell_type": "code",
   "execution_count": 30,
   "metadata": {
    "execution": {
     "iopub.execute_input": "2021-03-11T18:41:23.897972Z",
     "iopub.status.busy": "2021-03-11T18:41:23.897281Z",
     "iopub.status.idle": "2021-03-11T18:42:44.603273Z",
     "shell.execute_reply": "2021-03-11T18:42:44.602814Z"
    },
    "papermill": {
     "duration": 80.757944,
     "end_time": "2021-03-11T18:42:44.603417",
     "exception": false,
     "start_time": "2021-03-11T18:41:23.845473",
     "status": "completed"
    },
    "tags": []
   },
   "outputs": [
    {
     "name": "stdout",
     "output_type": "stream",
     "text": [
      "Epoch 1/100\n",
      "81/81 [==============================] - 2s 10ms/step - loss: 0.0611\n",
      "Epoch 2/100\n",
      "81/81 [==============================] - 1s 9ms/step - loss: 0.0434\n",
      "Epoch 3/100\n",
      "81/81 [==============================] - 1s 9ms/step - loss: 0.0274\n",
      "Epoch 4/100\n",
      "81/81 [==============================] - 1s 9ms/step - loss: 0.0288\n",
      "Epoch 5/100\n",
      "81/81 [==============================] - 1s 9ms/step - loss: 0.0189\n",
      "Epoch 6/100\n",
      "81/81 [==============================] - 1s 10ms/step - loss: 0.0126\n",
      "Epoch 7/100\n",
      "81/81 [==============================] - 1s 10ms/step - loss: 0.0091\n",
      "Epoch 8/100\n",
      "81/81 [==============================] - 1s 10ms/step - loss: 0.0115\n",
      "Epoch 9/100\n",
      "81/81 [==============================] - 1s 11ms/step - loss: 0.0363\n",
      "Epoch 10/100\n",
      "81/81 [==============================] - 1s 10ms/step - loss: 0.0278\n",
      "Epoch 11/100\n",
      "81/81 [==============================] - 1s 9ms/step - loss: 0.0124\n",
      "Epoch 12/100\n",
      "81/81 [==============================] - 1s 9ms/step - loss: 0.0051\n",
      "Epoch 13/100\n",
      "81/81 [==============================] - 1s 9ms/step - loss: 0.0082\n",
      "Epoch 14/100\n",
      "81/81 [==============================] - 1s 10ms/step - loss: 0.0057\n",
      "Epoch 15/100\n",
      "81/81 [==============================] - 1s 10ms/step - loss: 0.0057\n",
      "Epoch 16/100\n",
      "81/81 [==============================] - 1s 9ms/step - loss: 0.0108\n",
      "Epoch 17/100\n",
      "81/81 [==============================] - 1s 9ms/step - loss: 0.0080\n",
      "Epoch 18/100\n",
      "81/81 [==============================] - 1s 10ms/step - loss: 0.0056\n",
      "Epoch 19/100\n",
      "81/81 [==============================] - 1s 9ms/step - loss: 0.0058\n",
      "Epoch 20/100\n",
      "81/81 [==============================] - 1s 9ms/step - loss: 0.0035\n",
      "Epoch 21/100\n",
      "81/81 [==============================] - 1s 10ms/step - loss: 0.0067\n",
      "Epoch 22/100\n",
      "81/81 [==============================] - 1s 10ms/step - loss: 0.0051\n",
      "Epoch 23/100\n",
      "81/81 [==============================] - 1s 9ms/step - loss: 0.0077\n",
      "Epoch 24/100\n",
      "81/81 [==============================] - 1s 10ms/step - loss: 0.0064\n",
      "Epoch 25/100\n",
      "81/81 [==============================] - 1s 9ms/step - loss: 0.0066\n",
      "Epoch 26/100\n",
      "81/81 [==============================] - 1s 10ms/step - loss: 0.0054\n",
      "Epoch 27/100\n",
      "81/81 [==============================] - 1s 9ms/step - loss: 0.0055\n",
      "Epoch 28/100\n",
      "81/81 [==============================] - 1s 9ms/step - loss: 0.0050\n",
      "Epoch 29/100\n",
      "81/81 [==============================] - 1s 9ms/step - loss: 0.0051\n",
      "Epoch 30/100\n",
      "81/81 [==============================] - 1s 9ms/step - loss: 0.0056\n",
      "Epoch 31/100\n",
      "81/81 [==============================] - 1s 9ms/step - loss: 0.0051\n",
      "Epoch 32/100\n",
      "81/81 [==============================] - 1s 9ms/step - loss: 0.0043\n",
      "Epoch 33/100\n",
      "81/81 [==============================] - 1s 10ms/step - loss: 0.0061\n",
      "Epoch 34/100\n",
      "81/81 [==============================] - 1s 9ms/step - loss: 0.0033\n",
      "Epoch 35/100\n",
      "81/81 [==============================] - 1s 10ms/step - loss: 0.0077\n",
      "Epoch 36/100\n",
      "81/81 [==============================] - 1s 9ms/step - loss: 0.0037\n",
      "Epoch 37/100\n",
      "81/81 [==============================] - 1s 10ms/step - loss: 0.0078\n",
      "Epoch 38/100\n",
      "81/81 [==============================] - 1s 9ms/step - loss: 0.0032\n",
      "Epoch 39/100\n",
      "81/81 [==============================] - 1s 9ms/step - loss: 0.0054\n",
      "Epoch 40/100\n",
      "81/81 [==============================] - 1s 9ms/step - loss: 0.0030\n",
      "Epoch 41/100\n",
      "81/81 [==============================] - 1s 9ms/step - loss: 0.0027\n",
      "Epoch 42/100\n",
      "81/81 [==============================] - 1s 9ms/step - loss: 0.0050\n",
      "Epoch 43/100\n",
      "81/81 [==============================] - 1s 9ms/step - loss: 0.0063\n",
      "Epoch 44/100\n",
      "81/81 [==============================] - 1s 9ms/step - loss: 0.0033\n",
      "Epoch 45/100\n",
      "81/81 [==============================] - 1s 9ms/step - loss: 0.0074\n",
      "Epoch 46/100\n",
      "81/81 [==============================] - 1s 9ms/step - loss: 0.0037\n",
      "Epoch 47/100\n",
      "81/81 [==============================] - 1s 9ms/step - loss: 0.0050\n",
      "Epoch 48/100\n",
      "81/81 [==============================] - 1s 9ms/step - loss: 0.0045\n",
      "Epoch 49/100\n",
      "81/81 [==============================] - 1s 12ms/step - loss: 0.0049\n",
      "Epoch 50/100\n",
      "81/81 [==============================] - 1s 9ms/step - loss: 0.0028\n",
      "Epoch 51/100\n",
      "81/81 [==============================] - 1s 9ms/step - loss: 0.0027\n",
      "Epoch 52/100\n",
      "81/81 [==============================] - 1s 9ms/step - loss: 0.0023\n",
      "Epoch 53/100\n",
      "81/81 [==============================] - 1s 10ms/step - loss: 0.0022\n",
      "Epoch 54/100\n",
      "81/81 [==============================] - 1s 9ms/step - loss: 0.0031\n",
      "Epoch 55/100\n",
      "81/81 [==============================] - 1s 9ms/step - loss: 0.0038\n",
      "Epoch 56/100\n",
      "81/81 [==============================] - 1s 9ms/step - loss: 0.0032\n",
      "Epoch 57/100\n",
      "81/81 [==============================] - 1s 10ms/step - loss: 0.0028\n",
      "Epoch 58/100\n",
      "81/81 [==============================] - 1s 10ms/step - loss: 0.0028\n",
      "Epoch 59/100\n",
      "81/81 [==============================] - 1s 9ms/step - loss: 0.0035\n",
      "Epoch 60/100\n",
      "81/81 [==============================] - 1s 9ms/step - loss: 0.0027\n",
      "Epoch 61/100\n",
      "81/81 [==============================] - 1s 9ms/step - loss: 0.0063\n",
      "Epoch 62/100\n",
      "81/81 [==============================] - 1s 9ms/step - loss: 0.0043\n",
      "Epoch 63/100\n",
      "81/81 [==============================] - 1s 10ms/step - loss: 0.0033\n",
      "Epoch 64/100\n",
      "81/81 [==============================] - 1s 9ms/step - loss: 0.0026\n",
      "Epoch 65/100\n",
      "81/81 [==============================] - 1s 9ms/step - loss: 0.0025\n",
      "Epoch 66/100\n",
      "81/81 [==============================] - 1s 9ms/step - loss: 0.0037\n",
      "Epoch 67/100\n",
      "81/81 [==============================] - 1s 9ms/step - loss: 0.0025\n",
      "Epoch 68/100\n",
      "81/81 [==============================] - 1s 9ms/step - loss: 0.0022\n",
      "Epoch 69/100\n",
      "81/81 [==============================] - 1s 9ms/step - loss: 0.0020\n",
      "Epoch 70/100\n",
      "81/81 [==============================] - 1s 9ms/step - loss: 0.0026\n",
      "Epoch 71/100\n",
      "81/81 [==============================] - 1s 9ms/step - loss: 0.0017\n",
      "Epoch 72/100\n",
      "81/81 [==============================] - 1s 9ms/step - loss: 0.0028\n",
      "Epoch 73/100\n",
      "81/81 [==============================] - 1s 9ms/step - loss: 0.0019\n",
      "Epoch 74/100\n",
      "81/81 [==============================] - 1s 10ms/step - loss: 0.0024\n",
      "Epoch 75/100\n",
      "81/81 [==============================] - 1s 10ms/step - loss: 0.0023\n",
      "Epoch 76/100\n",
      "81/81 [==============================] - 1s 10ms/step - loss: 0.0027\n",
      "Epoch 77/100\n",
      "81/81 [==============================] - 1s 10ms/step - loss: 0.0021\n",
      "Epoch 78/100\n",
      "81/81 [==============================] - 1s 9ms/step - loss: 0.0025\n",
      "Epoch 79/100\n",
      "81/81 [==============================] - 1s 10ms/step - loss: 0.0027\n",
      "Epoch 80/100\n",
      "81/81 [==============================] - 1s 10ms/step - loss: 0.0024\n",
      "Epoch 81/100\n",
      "81/81 [==============================] - 1s 10ms/step - loss: 0.0026\n",
      "Epoch 82/100\n",
      "81/81 [==============================] - 1s 9ms/step - loss: 0.0020\n",
      "Epoch 83/100\n",
      "81/81 [==============================] - 1s 9ms/step - loss: 0.0032\n",
      "Epoch 84/100\n",
      "81/81 [==============================] - 1s 10ms/step - loss: 0.0020\n",
      "Epoch 85/100\n",
      "81/81 [==============================] - 1s 9ms/step - loss: 0.0034\n",
      "Epoch 86/100\n",
      "81/81 [==============================] - 1s 9ms/step - loss: 0.0029\n",
      "Epoch 87/100\n",
      "81/81 [==============================] - 1s 9ms/step - loss: 0.0028\n",
      "Epoch 88/100\n",
      "81/81 [==============================] - 1s 10ms/step - loss: 0.0019\n",
      "Epoch 89/100\n",
      "81/81 [==============================] - 1s 11ms/step - loss: 0.0015\n",
      "Epoch 90/100\n",
      "81/81 [==============================] - 1s 11ms/step - loss: 0.0020\n",
      "Epoch 91/100\n",
      "81/81 [==============================] - 1s 10ms/step - loss: 0.0015\n",
      "Epoch 92/100\n",
      "81/81 [==============================] - 1s 10ms/step - loss: 0.0020\n",
      "Epoch 93/100\n",
      "81/81 [==============================] - 1s 10ms/step - loss: 0.0033\n",
      "Epoch 94/100\n",
      "81/81 [==============================] - 1s 9ms/step - loss: 0.0012\n",
      "Epoch 95/100\n",
      "81/81 [==============================] - 1s 9ms/step - loss: 0.0024\n",
      "Epoch 96/100\n",
      "81/81 [==============================] - 1s 9ms/step - loss: 0.0014\n",
      "Epoch 97/100\n",
      "81/81 [==============================] - 1s 9ms/step - loss: 0.0020\n",
      "Epoch 98/100\n",
      "81/81 [==============================] - 1s 9ms/step - loss: 0.0018\n",
      "Epoch 99/100\n",
      "81/81 [==============================] - 1s 9ms/step - loss: 0.0018\n",
      "Epoch 100/100\n",
      "81/81 [==============================] - 1s 10ms/step - loss: 0.0019\n"
     ]
    },
    {
     "data": {
      "text/plain": [
       "<tensorflow.python.keras.callbacks.History at 0x7ff518e4a4d0>"
      ]
     },
     "execution_count": 30,
     "metadata": {},
     "output_type": "execute_result"
    }
   ],
   "source": [
    "model.fit_generator(generator, epochs=100)"
   ]
  },
  {
   "cell_type": "code",
   "execution_count": 31,
   "metadata": {
    "execution": {
     "iopub.execute_input": "2021-03-11T18:42:45.417085Z",
     "iopub.status.busy": "2021-03-11T18:42:45.416119Z",
     "iopub.status.idle": "2021-03-11T18:42:45.533162Z",
     "shell.execute_reply": "2021-03-11T18:42:45.532439Z"
    },
    "papermill": {
     "duration": 0.536664,
     "end_time": "2021-03-11T18:42:45.533346",
     "exception": false,
     "start_time": "2021-03-11T18:42:44.996682",
     "status": "completed"
    },
    "tags": []
   },
   "outputs": [
    {
     "data": {
      "image/png": "[encoded data removed]",
      "text/plain": [
       "<Figure size 864x288 with 1 Axes>"
      ]
     },
     "metadata": {
      "needs_background": "light"
     },
     "output_type": "display_data"
    }
   ],
   "source": [
    "losses_lstm = model.history.history['loss']\n",
    "plt.figure(figsize=(12,4))\n",
    "plt.xlabel(\"Epochs\")\n",
    "plt.ylabel(\"Loss\")\n",
    "plt.plot(range(len(losses_lstm)),losses_lstm);"
   ]
  },
  {
   "cell_type": "markdown",
   "metadata": {
    "papermill": {
     "duration": 0.402881,
     "end_time": "2021-03-11T18:42:46.330188",
     "exception": false,
     "start_time": "2021-03-11T18:42:45.927307",
     "status": "completed"
    },
    "tags": []
   },
   "source": [
    "**Test Seti ile Tahmin Edelim**"
   ]
  },
  {
   "cell_type": "code",
   "execution_count": 32,
   "metadata": {
    "execution": {
     "iopub.execute_input": "2021-03-11T18:42:47.135109Z",
     "iopub.status.busy": "2021-03-11T18:42:47.134469Z",
     "iopub.status.idle": "2021-03-11T18:42:47.327155Z",
     "shell.execute_reply": "2021-03-11T18:42:47.326640Z"
    },
    "papermill": {
     "duration": 0.596934,
     "end_time": "2021-03-11T18:42:47.327297",
     "exception": false,
     "start_time": "2021-03-11T18:42:46.730363",
     "status": "completed"
    },
    "tags": []
   },
   "outputs": [],
   "source": [
    "rescaled_test =scaled_test.reshape(scaled_test.shape[0],scaled_test.shape[1] , 1)\n",
    "\n",
    "lstm_tahmin = model.predict(rescaled_test)"
   ]
  },
  {
   "cell_type": "code",
   "execution_count": 33,
   "metadata": {
    "execution": {
     "iopub.execute_input": "2021-03-11T18:42:48.165952Z",
     "iopub.status.busy": "2021-03-11T18:42:48.165335Z",
     "iopub.status.idle": "2021-03-11T18:42:48.168395Z",
     "shell.execute_reply": "2021-03-11T18:42:48.167839Z"
    },
    "papermill": {
     "duration": 0.404187,
     "end_time": "2021-03-11T18:42:48.168533",
     "exception": false,
     "start_time": "2021-03-11T18:42:47.764346",
     "status": "completed"
    },
    "tags": []
   },
   "outputs": [],
   "source": [
    "lstm_tahmin_retrans = scaler.inverse_transform(lstm_tahmin)\n",
    "\n",
    "lstm_tahmin_testten=lstm_tahmin_retrans.reshape(lstm_tahmin_retrans.shape[0])\n",
    "lstm_tahmin_testten_ser = pd.Series(lstm_tahmin_testten, index=test.index)"
   ]
  },
  {
   "cell_type": "code",
   "execution_count": 34,
   "metadata": {
    "execution": {
     "iopub.execute_input": "2021-03-11T18:42:49.012487Z",
     "iopub.status.busy": "2021-03-11T18:42:49.011913Z",
     "iopub.status.idle": "2021-03-11T18:42:49.014989Z",
     "shell.execute_reply": "2021-03-11T18:42:49.015414Z"
    },
    "papermill": {
     "duration": 0.406144,
     "end_time": "2021-03-11T18:42:49.015564",
     "exception": false,
     "start_time": "2021-03-11T18:42:48.609420",
     "status": "completed"
    },
    "tags": []
   },
   "outputs": [
    {
     "data": {
      "text/plain": [
       "Month\n",
       "1971-10-01    4095.371094\n",
       "1971-11-01    4432.440430\n",
       "1971-12-01    4773.013672\n",
       "1972-01-01    3791.997070\n",
       "1972-02-01    3708.177734\n",
       "1972-03-01    3817.661621\n",
       "1972-04-01    3841.347900\n",
       "1972-05-01    3822.291016\n",
       "1972-06-01    3899.963623\n",
       "1972-07-01    3786.515869\n",
       "1972-08-01    3461.282959\n",
       "1972-09-01    3965.381104\n",
       "dtype: float32"
      ]
     },
     "execution_count": 34,
     "metadata": {},
     "output_type": "execute_result"
    }
   ],
   "source": [
    "lstm_tahmin_testten_ser"
   ]
  },
  {
   "cell_type": "code",
   "execution_count": 35,
   "metadata": {
    "execution": {
     "iopub.execute_input": "2021-03-11T18:42:49.818478Z",
     "iopub.status.busy": "2021-03-11T18:42:49.817885Z",
     "iopub.status.idle": "2021-03-11T18:42:50.025252Z",
     "shell.execute_reply": "2021-03-11T18:42:50.024749Z"
    },
    "papermill": {
     "duration": 0.608178,
     "end_time": "2021-03-11T18:42:50.025384",
     "exception": false,
     "start_time": "2021-03-11T18:42:49.417206",
     "status": "completed"
    },
    "tags": []
   },
   "outputs": [
    {
     "name": "stdout",
     "output_type": "stream",
     "text": [
      "RMSE: 3063.101\n"
     ]
    },
    {
     "data": {
      "image/png": "[encoded data removed]",
      "text/plain": [
       "<Figure size 1080x360 with 1 Axes>"
      ]
     },
     "metadata": {
      "needs_background": "light"
     },
     "output_type": "display_data"
    }
   ],
   "source": [
    "lstm_tahmin_testten_ser.plot(figsize = (15,5), legend=True)\n",
    "test['Sales'].plot(legend = True);\n",
    "rmse_lstm = rmse(test['Sales'], lstm_tahmin_testten_ser)\n",
    "print('RMSE: %.3f' % rmse_lstm)"
   ]
  },
  {
   "cell_type": "markdown",
   "metadata": {
    "papermill": {
     "duration": 0.399022,
     "end_time": "2021-03-11T18:42:50.823179",
     "exception": false,
     "start_time": "2021-03-11T18:42:50.424157",
     "status": "completed"
    },
    "tags": []
   },
   "source": [
    "**Ekstrapolasyon (Tek değişkenli zaman serisi tahmini) ile Tahmin Edelim**"
   ]
  },
  {
   "cell_type": "code",
   "execution_count": 36,
   "metadata": {
    "execution": {
     "iopub.execute_input": "2021-03-11T18:42:51.625302Z",
     "iopub.status.busy": "2021-03-11T18:42:51.624424Z",
     "iopub.status.idle": "2021-03-11T18:42:52.157783Z",
     "shell.execute_reply": "2021-03-11T18:42:52.156793Z"
    },
    "papermill": {
     "duration": 0.936073,
     "end_time": "2021-03-11T18:42:52.157933",
     "exception": false,
     "start_time": "2021-03-11T18:42:51.221860",
     "status": "completed"
    },
    "tags": []
   },
   "outputs": [],
   "source": [
    "lstm_tahmin_scaled=list()\n",
    "batch = scaled_train[-12:]\n",
    "current_batch = batch.reshape((1, 12, 1))\n",
    "for i in range(len(test)):   \n",
    "    lstm_tahmin = model.predict(current_batch)[0]\n",
    "    lstm_tahmin_scaled.append(lstm_tahmin) \n",
    "    current_batch = np.append(current_batch[:,1:,:],[[lstm_tahmin]],axis=1)"
   ]
  },
  {
   "cell_type": "code",
   "execution_count": 37,
   "metadata": {
    "execution": {
     "iopub.execute_input": "2021-03-11T18:42:52.953456Z",
     "iopub.status.busy": "2021-03-11T18:42:52.952687Z",
     "iopub.status.idle": "2021-03-11T18:42:52.954932Z",
     "shell.execute_reply": "2021-03-11T18:42:52.955346Z"
    },
    "papermill": {
     "duration": 0.40184,
     "end_time": "2021-03-11T18:42:52.955514",
     "exception": false,
     "start_time": "2021-03-11T18:42:52.553674",
     "status": "completed"
    },
    "tags": []
   },
   "outputs": [],
   "source": [
    "lstm_tahmin_ekst = scaler.inverse_transform(lstm_tahmin_scaled)\n",
    "\n",
    "lstm_tahmin_reshape=lstm_tahmin_ekst.reshape(lstm_tahmin_ekst.shape[0])\n",
    "lstm_tahmin_ekst_ser=pd.Series(lstm_tahmin_reshape,index=test.index)"
   ]
  },
  {
   "cell_type": "code",
   "execution_count": 38,
   "metadata": {
    "execution": {
     "iopub.execute_input": "2021-03-11T18:42:53.771325Z",
     "iopub.status.busy": "2021-03-11T18:42:53.770733Z",
     "iopub.status.idle": "2021-03-11T18:42:53.957544Z",
     "shell.execute_reply": "2021-03-11T18:42:53.958089Z"
    },
    "papermill": {
     "duration": 0.605185,
     "end_time": "2021-03-11T18:42:53.958252",
     "exception": false,
     "start_time": "2021-03-11T18:42:53.353067",
     "status": "completed"
    },
    "tags": []
   },
   "outputs": [
    {
     "name": "stdout",
     "output_type": "stream",
     "text": [
      "RMSE: 444.974\n"
     ]
    },
    {
     "data": {
      "image/png": "[encoded data removed]",
      "text/plain": [
       "<Figure size 1080x360 with 1 Axes>"
      ]
     },
     "metadata": {
      "needs_background": "light"
     },
     "output_type": "display_data"
    }
   ],
   "source": [
    "lstm_tahmin_ekst_ser.plot(figsize = (15,5), legend=True)\n",
    "test['Sales'].plot(legend = True);\n",
    "rmse_lstm = rmse(test['Sales'], lstm_tahmin_ekst_ser)\n",
    "print('RMSE: %.3f' % rmse_lstm)"
   ]
  },
  {
   "cell_type": "markdown",
   "metadata": {
    "papermill": {
     "duration": 0.40141,
     "end_time": "2021-03-11T18:42:54.760259",
     "exception": false,
     "start_time": "2021-03-11T18:42:54.358849",
     "status": "completed"
    },
    "tags": []
   },
   "source": [
    "# Prophet ile Tahmin"
   ]
  },
  {
   "cell_type": "code",
   "execution_count": 39,
   "metadata": {
    "execution": {
     "iopub.execute_input": "2021-03-11T18:42:55.573128Z",
     "iopub.status.busy": "2021-03-11T18:42:55.572303Z",
     "iopub.status.idle": "2021-03-11T18:42:55.575979Z",
     "shell.execute_reply": "2021-03-11T18:42:55.576409Z"
    },
    "papermill": {
     "duration": 0.416733,
     "end_time": "2021-03-11T18:42:55.576594",
     "exception": false,
     "start_time": "2021-03-11T18:42:55.159861",
     "status": "completed"
    },
    "tags": []
   },
   "outputs": [
    {
     "data": {
      "text/html": [
       "<div>\n",
       "<style scoped>\n",
       "    .dataframe tbody tr th:only-of-type {\n",
       "        vertical-align: middle;\n",
       "    }\n",
       "\n",
       "    .dataframe tbody tr th {\n",
       "        vertical-align: top;\n",
       "    }\n",
       "\n",
       "    .dataframe thead th {\n",
       "        text-align: right;\n",
       "    }\n",
       "</style>\n",
       "<table border=\"1\" class=\"dataframe\">\n",
       "  <thead>\n",
       "    <tr style=\"text-align: right;\">\n",
       "      <th></th>\n",
       "      <th>Sales</th>\n",
       "    </tr>\n",
       "    <tr>\n",
       "      <th>Month</th>\n",
       "      <th></th>\n",
       "    </tr>\n",
       "  </thead>\n",
       "  <tbody>\n",
       "    <tr>\n",
       "      <th>1964-01-01</th>\n",
       "      <td>2815.0</td>\n",
       "    </tr>\n",
       "    <tr>\n",
       "      <th>1964-02-01</th>\n",
       "      <td>2672.0</td>\n",
       "    </tr>\n",
       "    <tr>\n",
       "      <th>1964-03-01</th>\n",
       "      <td>2755.0</td>\n",
       "    </tr>\n",
       "    <tr>\n",
       "      <th>1964-04-01</th>\n",
       "      <td>2721.0</td>\n",
       "    </tr>\n",
       "    <tr>\n",
       "      <th>1964-05-01</th>\n",
       "      <td>2946.0</td>\n",
       "    </tr>\n",
       "    <tr>\n",
       "      <th>...</th>\n",
       "      <td>...</td>\n",
       "    </tr>\n",
       "    <tr>\n",
       "      <th>1972-05-01</th>\n",
       "      <td>4618.0</td>\n",
       "    </tr>\n",
       "    <tr>\n",
       "      <th>1972-06-01</th>\n",
       "      <td>5312.0</td>\n",
       "    </tr>\n",
       "    <tr>\n",
       "      <th>1972-07-01</th>\n",
       "      <td>4298.0</td>\n",
       "    </tr>\n",
       "    <tr>\n",
       "      <th>1972-08-01</th>\n",
       "      <td>1413.0</td>\n",
       "    </tr>\n",
       "    <tr>\n",
       "      <th>1972-09-01</th>\n",
       "      <td>5877.0</td>\n",
       "    </tr>\n",
       "  </tbody>\n",
       "</table>\n",
       "<p>105 rows × 1 columns</p>\n",
       "</div>"
      ],
      "text/plain": [
       "             Sales\n",
       "Month             \n",
       "1964-01-01  2815.0\n",
       "1964-02-01  2672.0\n",
       "1964-03-01  2755.0\n",
       "1964-04-01  2721.0\n",
       "1964-05-01  2946.0\n",
       "...            ...\n",
       "1972-05-01  4618.0\n",
       "1972-06-01  5312.0\n",
       "1972-07-01  4298.0\n",
       "1972-08-01  1413.0\n",
       "1972-09-01  5877.0\n",
       "\n",
       "[105 rows x 1 columns]"
      ]
     },
     "execution_count": 39,
     "metadata": {},
     "output_type": "execute_result"
    }
   ],
   "source": [
    "data"
   ]
  },
  {
   "cell_type": "code",
   "execution_count": 40,
   "metadata": {
    "execution": {
     "iopub.execute_input": "2021-03-11T18:42:56.425436Z",
     "iopub.status.busy": "2021-03-11T18:42:56.424576Z",
     "iopub.status.idle": "2021-03-11T18:43:00.845453Z",
     "shell.execute_reply": "2021-03-11T18:43:00.844922Z"
    },
    "papermill": {
     "duration": 4.866808,
     "end_time": "2021-03-11T18:43:00.845622",
     "exception": false,
     "start_time": "2021-03-11T18:42:55.978814",
     "status": "completed"
    },
    "tags": []
   },
   "outputs": [
    {
     "data": {
      "text/html": [
       "<div>\n",
       "<style scoped>\n",
       "    .dataframe tbody tr th:only-of-type {\n",
       "        vertical-align: middle;\n",
       "    }\n",
       "\n",
       "    .dataframe tbody tr th {\n",
       "        vertical-align: top;\n",
       "    }\n",
       "\n",
       "    .dataframe thead th {\n",
       "        text-align: right;\n",
       "    }\n",
       "</style>\n",
       "<table border=\"1\" class=\"dataframe\">\n",
       "  <thead>\n",
       "    <tr style=\"text-align: right;\">\n",
       "      <th></th>\n",
       "      <th>ds</th>\n",
       "      <th>trend</th>\n",
       "      <th>yhat_lower</th>\n",
       "      <th>yhat_upper</th>\n",
       "      <th>trend_lower</th>\n",
       "      <th>trend_upper</th>\n",
       "      <th>additive_terms</th>\n",
       "      <th>additive_terms_lower</th>\n",
       "      <th>additive_terms_upper</th>\n",
       "      <th>yearly</th>\n",
       "      <th>yearly_lower</th>\n",
       "      <th>yearly_upper</th>\n",
       "      <th>multiplicative_terms</th>\n",
       "      <th>multiplicative_terms_lower</th>\n",
       "      <th>multiplicative_terms_upper</th>\n",
       "      <th>yhat</th>\n",
       "    </tr>\n",
       "  </thead>\n",
       "  <tbody>\n",
       "    <tr>\n",
       "      <th>100</th>\n",
       "      <td>1972-05-01</td>\n",
       "      <td>5929.506024</td>\n",
       "      <td>4258.463143</td>\n",
       "      <td>6265.164186</td>\n",
       "      <td>5923.980107</td>\n",
       "      <td>5934.688579</td>\n",
       "      <td>-697.320744</td>\n",
       "      <td>-697.320744</td>\n",
       "      <td>-697.320744</td>\n",
       "      <td>-697.320744</td>\n",
       "      <td>-697.320744</td>\n",
       "      <td>-697.320744</td>\n",
       "      <td>0.0</td>\n",
       "      <td>0.0</td>\n",
       "      <td>0.0</td>\n",
       "      <td>5232.185280</td>\n",
       "    </tr>\n",
       "    <tr>\n",
       "      <th>101</th>\n",
       "      <td>1972-06-01</td>\n",
       "      <td>5947.077683</td>\n",
       "      <td>4261.094150</td>\n",
       "      <td>6086.417214</td>\n",
       "      <td>5940.275211</td>\n",
       "      <td>5953.296214</td>\n",
       "      <td>-818.201248</td>\n",
       "      <td>-818.201248</td>\n",
       "      <td>-818.201248</td>\n",
       "      <td>-818.201248</td>\n",
       "      <td>-818.201248</td>\n",
       "      <td>-818.201248</td>\n",
       "      <td>0.0</td>\n",
       "      <td>0.0</td>\n",
       "      <td>0.0</td>\n",
       "      <td>5128.876435</td>\n",
       "    </tr>\n",
       "    <tr>\n",
       "      <th>102</th>\n",
       "      <td>1972-07-01</td>\n",
       "      <td>5964.082514</td>\n",
       "      <td>3503.445077</td>\n",
       "      <td>5365.465370</td>\n",
       "      <td>5956.290493</td>\n",
       "      <td>5971.383967</td>\n",
       "      <td>-1582.874224</td>\n",
       "      <td>-1582.874224</td>\n",
       "      <td>-1582.874224</td>\n",
       "      <td>-1582.874224</td>\n",
       "      <td>-1582.874224</td>\n",
       "      <td>-1582.874224</td>\n",
       "      <td>0.0</td>\n",
       "      <td>0.0</td>\n",
       "      <td>0.0</td>\n",
       "      <td>4381.208289</td>\n",
       "    </tr>\n",
       "    <tr>\n",
       "      <th>103</th>\n",
       "      <td>1972-08-01</td>\n",
       "      <td>5981.654172</td>\n",
       "      <td>2362.966553</td>\n",
       "      <td>4334.586111</td>\n",
       "      <td>5972.128224</td>\n",
       "      <td>5990.180916</td>\n",
       "      <td>-2677.889030</td>\n",
       "      <td>-2677.889030</td>\n",
       "      <td>-2677.889030</td>\n",
       "      <td>-2677.889030</td>\n",
       "      <td>-2677.889030</td>\n",
       "      <td>-2677.889030</td>\n",
       "      <td>0.0</td>\n",
       "      <td>0.0</td>\n",
       "      <td>0.0</td>\n",
       "      <td>3303.765142</td>\n",
       "    </tr>\n",
       "    <tr>\n",
       "      <th>104</th>\n",
       "      <td>1972-09-01</td>\n",
       "      <td>5999.225831</td>\n",
       "      <td>4339.614804</td>\n",
       "      <td>6355.230658</td>\n",
       "      <td>5988.293128</td>\n",
       "      <td>6009.352289</td>\n",
       "      <td>-645.080491</td>\n",
       "      <td>-645.080491</td>\n",
       "      <td>-645.080491</td>\n",
       "      <td>-645.080491</td>\n",
       "      <td>-645.080491</td>\n",
       "      <td>-645.080491</td>\n",
       "      <td>0.0</td>\n",
       "      <td>0.0</td>\n",
       "      <td>0.0</td>\n",
       "      <td>5354.145340</td>\n",
       "    </tr>\n",
       "  </tbody>\n",
       "</table>\n",
       "</div>"
      ],
      "text/plain": [
       "            ds        trend   yhat_lower   yhat_upper  trend_lower  \\\n",
       "100 1972-05-01  5929.506024  4258.463143  6265.164186  5923.980107   \n",
       "101 1972-06-01  5947.077683  4261.094150  6086.417214  5940.275211   \n",
       "102 1972-07-01  5964.082514  3503.445077  5365.465370  5956.290493   \n",
       "103 1972-08-01  5981.654172  2362.966553  4334.586111  5972.128224   \n",
       "104 1972-09-01  5999.225831  4339.614804  6355.230658  5988.293128   \n",
       "\n",
       "     trend_upper  additive_terms  additive_terms_lower  additive_terms_upper  \\\n",
       "100  5934.688579     -697.320744           -697.320744           -697.320744   \n",
       "101  5953.296214     -818.201248           -818.201248           -818.201248   \n",
       "102  5971.383967    -1582.874224          -1582.874224          -1582.874224   \n",
       "103  5990.180916    -2677.889030          -2677.889030          -2677.889030   \n",
       "104  6009.352289     -645.080491           -645.080491           -645.080491   \n",
       "\n",
       "          yearly  yearly_lower  yearly_upper  multiplicative_terms  \\\n",
       "100  -697.320744   -697.320744   -697.320744                   0.0   \n",
       "101  -818.201248   -818.201248   -818.201248                   0.0   \n",
       "102 -1582.874224  -1582.874224  -1582.874224                   0.0   \n",
       "103 -2677.889030  -2677.889030  -2677.889030                   0.0   \n",
       "104  -645.080491   -645.080491   -645.080491                   0.0   \n",
       "\n",
       "     multiplicative_terms_lower  multiplicative_terms_upper         yhat  \n",
       "100                         0.0                         0.0  5232.185280  \n",
       "101                         0.0                         0.0  5128.876435  \n",
       "102                         0.0                         0.0  4381.208289  \n",
       "103                         0.0                         0.0  3303.765142  \n",
       "104                         0.0                         0.0  5354.145340  "
      ]
     },
     "execution_count": 40,
     "metadata": {},
     "output_type": "execute_result"
    }
   ],
   "source": [
    "df = data.copy()\n",
    "df = df.reset_index()\n",
    "df.columns = ['ds','y'] \n",
    "\n",
    "train_pr = df.iloc[:len(data)-12]\n",
    "test_pr = df.iloc[len(data)-12:]\n",
    "\n",
    "from fbprophet import Prophet\n",
    "\n",
    "model_p = Prophet()\n",
    "model_p.fit(train_pr)\n",
    "future = model_p.make_future_dataframe(periods=12,freq='MS')\n",
    "\n",
    "prophet_pred = model_p.predict(future)\n",
    "prophet_pred.tail()"
   ]
  },
  {
   "cell_type": "code",
   "execution_count": 41,
   "metadata": {
    "execution": {
     "iopub.execute_input": "2021-03-11T18:43:01.669873Z",
     "iopub.status.busy": "2021-03-11T18:43:01.668990Z",
     "iopub.status.idle": "2021-03-11T18:43:01.673692Z",
     "shell.execute_reply": "2021-03-11T18:43:01.673124Z"
    },
    "papermill": {
     "duration": 0.42219,
     "end_time": "2021-03-11T18:43:01.673823",
     "exception": false,
     "start_time": "2021-03-11T18:43:01.251633",
     "status": "completed"
    },
    "tags": []
   },
   "outputs": [
    {
     "data": {
      "text/html": [
       "<div>\n",
       "<style scoped>\n",
       "    .dataframe tbody tr th:only-of-type {\n",
       "        vertical-align: middle;\n",
       "    }\n",
       "\n",
       "    .dataframe tbody tr th {\n",
       "        vertical-align: top;\n",
       "    }\n",
       "\n",
       "    .dataframe thead th {\n",
       "        text-align: right;\n",
       "    }\n",
       "</style>\n",
       "<table border=\"1\" class=\"dataframe\">\n",
       "  <thead>\n",
       "    <tr style=\"text-align: right;\">\n",
       "      <th></th>\n",
       "      <th>Prophet_Tahmin</th>\n",
       "    </tr>\n",
       "    <tr>\n",
       "      <th>Tarih</th>\n",
       "      <th></th>\n",
       "    </tr>\n",
       "  </thead>\n",
       "  <tbody>\n",
       "    <tr>\n",
       "      <th>1971-10-01</th>\n",
       "      <td>6321.837000</td>\n",
       "    </tr>\n",
       "    <tr>\n",
       "      <th>1971-11-01</th>\n",
       "      <td>9322.691346</td>\n",
       "    </tr>\n",
       "    <tr>\n",
       "      <th>1971-12-01</th>\n",
       "      <td>11846.912670</td>\n",
       "    </tr>\n",
       "    <tr>\n",
       "      <th>1972-01-01</th>\n",
       "      <td>4774.756930</td>\n",
       "    </tr>\n",
       "    <tr>\n",
       "      <th>1972-02-01</th>\n",
       "      <td>4362.443459</td>\n",
       "    </tr>\n",
       "    <tr>\n",
       "      <th>1972-03-01</th>\n",
       "      <td>5157.687395</td>\n",
       "    </tr>\n",
       "    <tr>\n",
       "      <th>1972-04-01</th>\n",
       "      <td>4886.316086</td>\n",
       "    </tr>\n",
       "    <tr>\n",
       "      <th>1972-05-01</th>\n",
       "      <td>5232.185280</td>\n",
       "    </tr>\n",
       "    <tr>\n",
       "      <th>1972-06-01</th>\n",
       "      <td>5128.876435</td>\n",
       "    </tr>\n",
       "    <tr>\n",
       "      <th>1972-07-01</th>\n",
       "      <td>4381.208289</td>\n",
       "    </tr>\n",
       "    <tr>\n",
       "      <th>1972-08-01</th>\n",
       "      <td>3303.765142</td>\n",
       "    </tr>\n",
       "    <tr>\n",
       "      <th>1972-09-01</th>\n",
       "      <td>5354.145340</td>\n",
       "    </tr>\n",
       "  </tbody>\n",
       "</table>\n",
       "</div>"
      ],
      "text/plain": [
       "            Prophet_Tahmin\n",
       "Tarih                     \n",
       "1971-10-01     6321.837000\n",
       "1971-11-01     9322.691346\n",
       "1971-12-01    11846.912670\n",
       "1972-01-01     4774.756930\n",
       "1972-02-01     4362.443459\n",
       "1972-03-01     5157.687395\n",
       "1972-04-01     4886.316086\n",
       "1972-05-01     5232.185280\n",
       "1972-06-01     5128.876435\n",
       "1972-07-01     4381.208289\n",
       "1972-08-01     3303.765142\n",
       "1972-09-01     5354.145340"
      ]
     },
     "execution_count": 41,
     "metadata": {},
     "output_type": "execute_result"
    }
   ],
   "source": [
    "prophet_pred = pd.DataFrame({\"Tarih\" : prophet_pred[-12:]['ds'], \n",
    "                             \"Prophet_Tahmin\" : prophet_pred[-12:][\"yhat\"]})\n",
    "prophet_pred = prophet_pred.set_index(\"Tarih\")\n",
    "prophet_pred.index.freq = \"MS\"\n",
    "prophet_pred"
   ]
  },
  {
   "cell_type": "code",
   "execution_count": 42,
   "metadata": {
    "execution": {
     "iopub.execute_input": "2021-03-11T18:43:02.537082Z",
     "iopub.status.busy": "2021-03-11T18:43:02.524418Z",
     "iopub.status.idle": "2021-03-11T18:43:02.699111Z",
     "shell.execute_reply": "2021-03-11T18:43:02.698607Z"
    },
    "papermill": {
     "duration": 0.617918,
     "end_time": "2021-03-11T18:43:02.699269",
     "exception": false,
     "start_time": "2021-03-11T18:43:02.081351",
     "status": "completed"
    },
    "tags": []
   },
   "outputs": [
    {
     "name": "stdout",
     "output_type": "stream",
     "text": [
      "RMSE: 754.079\n"
     ]
    },
    {
     "data": {
      "image/png": "[encoded data removed]",
      "text/plain": [
       "<Figure size 1080x360 with 1 Axes>"
      ]
     },
     "metadata": {
      "needs_background": "light"
     },
     "output_type": "display_data"
    }
   ],
   "source": [
    "prophet_pred['Prophet_Tahmin'].plot(figsize = (15,5), legend=True)\n",
    "test['Sales'].plot(legend = True);\n",
    "rmse_lstm = rmse(test['Sales'], prophet_pred['Prophet_Tahmin'])\n",
    "print('RMSE: %.3f' % rmse_lstm)"
   ]
  },
  {
   "cell_type": "markdown",
   "metadata": {
    "papermill": {
     "duration": 0.41156,
     "end_time": "2021-03-11T18:43:03.528526",
     "exception": false,
     "start_time": "2021-03-11T18:43:03.116966",
     "status": "completed"
    },
    "tags": []
   },
   "source": [
    "# Sonuçları Gösteren DataFrame Oluşturma"
   ]
  },
  {
   "cell_type": "code",
   "execution_count": 43,
   "metadata": {
    "execution": {
     "iopub.execute_input": "2021-03-11T18:43:04.348881Z",
     "iopub.status.busy": "2021-03-11T18:43:04.348261Z",
     "iopub.status.idle": "2021-03-11T18:43:04.351893Z",
     "shell.execute_reply": "2021-03-11T18:43:04.351308Z"
    },
    "papermill": {
     "duration": 0.422517,
     "end_time": "2021-03-11T18:43:04.352030",
     "exception": false,
     "start_time": "2021-03-11T18:43:03.929513",
     "status": "completed"
    },
    "tags": []
   },
   "outputs": [
    {
     "data": {
      "text/html": [
       "<div>\n",
       "<style scoped>\n",
       "    .dataframe tbody tr th:only-of-type {\n",
       "        vertical-align: middle;\n",
       "    }\n",
       "\n",
       "    .dataframe tbody tr th {\n",
       "        vertical-align: top;\n",
       "    }\n",
       "\n",
       "    .dataframe thead th {\n",
       "        text-align: right;\n",
       "    }\n",
       "</style>\n",
       "<table border=\"1\" class=\"dataframe\">\n",
       "  <thead>\n",
       "    <tr style=\"text-align: right;\">\n",
       "      <th></th>\n",
       "    </tr>\n",
       "  </thead>\n",
       "  <tbody>\n",
       "    <tr>\n",
       "      <th>1972-10-01</th>\n",
       "    </tr>\n",
       "    <tr>\n",
       "      <th>1972-11-01</th>\n",
       "    </tr>\n",
       "    <tr>\n",
       "      <th>1972-12-01</th>\n",
       "    </tr>\n",
       "    <tr>\n",
       "      <th>1973-01-01</th>\n",
       "    </tr>\n",
       "    <tr>\n",
       "      <th>1973-02-01</th>\n",
       "    </tr>\n",
       "    <tr>\n",
       "      <th>1973-03-01</th>\n",
       "    </tr>\n",
       "    <tr>\n",
       "      <th>1973-04-01</th>\n",
       "    </tr>\n",
       "    <tr>\n",
       "      <th>1973-05-01</th>\n",
       "    </tr>\n",
       "    <tr>\n",
       "      <th>1973-06-01</th>\n",
       "    </tr>\n",
       "    <tr>\n",
       "      <th>1973-07-01</th>\n",
       "    </tr>\n",
       "    <tr>\n",
       "      <th>1973-08-01</th>\n",
       "    </tr>\n",
       "    <tr>\n",
       "      <th>1973-09-01</th>\n",
       "    </tr>\n",
       "  </tbody>\n",
       "</table>\n",
       "</div>"
      ],
      "text/plain": [
       "Empty DataFrame\n",
       "Columns: []\n",
       "Index: [1972-10-01 00:00:00, 1972-11-01 00:00:00, 1972-12-01 00:00:00, 1973-01-01 00:00:00, 1973-02-01 00:00:00, 1973-03-01 00:00:00, 1973-04-01 00:00:00, 1973-05-01 00:00:00, 1973-06-01 00:00:00, 1973-07-01 00:00:00, 1973-08-01 00:00:00, 1973-09-01 00:00:00]"
      ]
     },
     "execution_count": 43,
     "metadata": {},
     "output_type": "execute_result"
    }
   ],
   "source": [
    "from pandas.tseries.offsets import DateOffset\n",
    "\n",
    "tahmin=[data.index[-1]+ DateOffset(months=x)for x in range(0,13)]\n",
    "tahmin_datası=pd.DataFrame(index=tahmin[1:])\n",
    "\n",
    "tahmin_datası"
   ]
  },
  {
   "cell_type": "code",
   "execution_count": 44,
   "metadata": {
    "execution": {
     "iopub.execute_input": "2021-03-11T18:43:05.185253Z",
     "iopub.status.busy": "2021-03-11T18:43:05.184368Z",
     "iopub.status.idle": "2021-03-11T18:43:05.187228Z",
     "shell.execute_reply": "2021-03-11T18:43:05.186706Z"
    },
    "papermill": {
     "duration": 0.424625,
     "end_time": "2021-03-11T18:43:05.187360",
     "exception": false,
     "start_time": "2021-03-11T18:43:04.762735",
     "status": "completed"
    },
    "tags": []
   },
   "outputs": [],
   "source": [
    "tahmin_datası['SARIMA_Tahmin']=yeni_sarima_tahmin\n",
    "tahmin_datası['LSTM_Tahmin']=lstm_tahmin_ekst\n",
    "tahmin_datası['Prophet_Tahmin']=prophet_pred['Prophet_Tahmin'].values"
   ]
  },
  {
   "cell_type": "code",
   "execution_count": 45,
   "metadata": {
    "execution": {
     "iopub.execute_input": "2021-03-11T18:43:06.020073Z",
     "iopub.status.busy": "2021-03-11T18:43:06.019421Z",
     "iopub.status.idle": "2021-03-11T18:43:06.023305Z",
     "shell.execute_reply": "2021-03-11T18:43:06.022763Z"
    },
    "papermill": {
     "duration": 0.423964,
     "end_time": "2021-03-11T18:43:06.023444",
     "exception": false,
     "start_time": "2021-03-11T18:43:05.599480",
     "status": "completed"
    },
    "tags": []
   },
   "outputs": [
    {
     "data": {
      "text/html": [
       "<div>\n",
       "<style scoped>\n",
       "    .dataframe tbody tr th:only-of-type {\n",
       "        vertical-align: middle;\n",
       "    }\n",
       "\n",
       "    .dataframe tbody tr th {\n",
       "        vertical-align: top;\n",
       "    }\n",
       "\n",
       "    .dataframe thead th {\n",
       "        text-align: right;\n",
       "    }\n",
       "</style>\n",
       "<table border=\"1\" class=\"dataframe\">\n",
       "  <thead>\n",
       "    <tr style=\"text-align: right;\">\n",
       "      <th></th>\n",
       "      <th>SARIMA_Tahmin</th>\n",
       "      <th>LSTM_Tahmin</th>\n",
       "      <th>Prophet_Tahmin</th>\n",
       "    </tr>\n",
       "  </thead>\n",
       "  <tbody>\n",
       "    <tr>\n",
       "      <th>1972-10-01</th>\n",
       "      <td>6642.505887</td>\n",
       "      <td>6287.350986</td>\n",
       "      <td>6321.837000</td>\n",
       "    </tr>\n",
       "    <tr>\n",
       "      <th>1972-11-01</th>\n",
       "      <td>9900.741937</td>\n",
       "      <td>9339.948131</td>\n",
       "      <td>9322.691346</td>\n",
       "    </tr>\n",
       "    <tr>\n",
       "      <th>1972-12-01</th>\n",
       "      <td>13127.345710</td>\n",
       "      <td>12481.262619</td>\n",
       "      <td>11846.912670</td>\n",
       "    </tr>\n",
       "    <tr>\n",
       "      <th>1973-01-01</th>\n",
       "      <td>3854.842031</td>\n",
       "      <td>3753.665398</td>\n",
       "      <td>4774.756930</td>\n",
       "    </tr>\n",
       "    <tr>\n",
       "      <th>1973-02-01</th>\n",
       "      <td>3145.923903</td>\n",
       "      <td>3404.394520</td>\n",
       "      <td>4362.443459</td>\n",
       "    </tr>\n",
       "    <tr>\n",
       "      <th>1973-03-01</th>\n",
       "      <td>4230.008726</td>\n",
       "      <td>4075.153480</td>\n",
       "      <td>5157.687395</td>\n",
       "    </tr>\n",
       "    <tr>\n",
       "      <th>1973-04-01</th>\n",
       "      <td>4618.786209</td>\n",
       "      <td>4375.904567</td>\n",
       "      <td>4886.316086</td>\n",
       "    </tr>\n",
       "    <tr>\n",
       "      <th>1973-05-01</th>\n",
       "      <td>4882.674865</td>\n",
       "      <td>4439.200896</td>\n",
       "      <td>5232.185280</td>\n",
       "    </tr>\n",
       "    <tr>\n",
       "      <th>1973-06-01</th>\n",
       "      <td>4819.720250</td>\n",
       "      <td>4586.144490</td>\n",
       "      <td>5128.876435</td>\n",
       "    </tr>\n",
       "    <tr>\n",
       "      <th>1973-07-01</th>\n",
       "      <td>4607.571648</td>\n",
       "      <td>4545.073662</td>\n",
       "      <td>4381.208289</td>\n",
       "    </tr>\n",
       "    <tr>\n",
       "      <th>1973-08-01</th>\n",
       "      <td>1663.828942</td>\n",
       "      <td>1353.910432</td>\n",
       "      <td>3303.765142</td>\n",
       "    </tr>\n",
       "    <tr>\n",
       "      <th>1973-09-01</th>\n",
       "      <td>5906.378133</td>\n",
       "      <td>5459.476826</td>\n",
       "      <td>5354.145340</td>\n",
       "    </tr>\n",
       "  </tbody>\n",
       "</table>\n",
       "</div>"
      ],
      "text/plain": [
       "            SARIMA_Tahmin   LSTM_Tahmin  Prophet_Tahmin\n",
       "1972-10-01    6642.505887   6287.350986     6321.837000\n",
       "1972-11-01    9900.741937   9339.948131     9322.691346\n",
       "1972-12-01   13127.345710  12481.262619    11846.912670\n",
       "1973-01-01    3854.842031   3753.665398     4774.756930\n",
       "1973-02-01    3145.923903   3404.394520     4362.443459\n",
       "1973-03-01    4230.008726   4075.153480     5157.687395\n",
       "1973-04-01    4618.786209   4375.904567     4886.316086\n",
       "1973-05-01    4882.674865   4439.200896     5232.185280\n",
       "1973-06-01    4819.720250   4586.144490     5128.876435\n",
       "1973-07-01    4607.571648   4545.073662     4381.208289\n",
       "1973-08-01    1663.828942   1353.910432     3303.765142\n",
       "1973-09-01    5906.378133   5459.476826     5354.145340"
      ]
     },
     "execution_count": 45,
     "metadata": {},
     "output_type": "execute_result"
    }
   ],
   "source": [
    "tahmin_datası"
   ]
  },
  {
   "cell_type": "markdown",
   "metadata": {
    "papermill": {
     "duration": 0.407494,
     "end_time": "2021-03-11T18:43:06.840784",
     "exception": false,
     "start_time": "2021-03-11T18:43:06.433290",
     "status": "completed"
    },
    "tags": []
   },
   "source": [
    "*Sonuç olarak en az hata değerini SARIMAX modelinin sonucu vermektedir.LSTM ise Prophet modelinden daha iyi sonuç vermiştir.*"
   ]
  }
 ],
 "metadata": {
  "kernelspec": {
   "display_name": "Python 3",
   "language": "python",
   "name": "python3"
  },
  "language_info": {
   "codemirror_mode": {
    "name": "ipython",
    "version": 3
   },
   "file_extension": ".py",
   "mimetype": "text/x-python",
   "name": "python",
   "nbconvert_exporter": "python",
   "pygments_lexer": "ipython3",
   "version": "3.7.9"
  },
  "papermill": {
   "default_parameters": {},
   "duration": 151.397765,
   "end_time": "2021-03-11T18:43:08.486505",
   "environment_variables": {},
   "exception": null,
   "input_path": "__notebook__.ipynb",
   "output_path": "__notebook__.ipynb",
   "parameters": {},
   "start_time": "2021-03-11T18:40:37.088740",
   "version": "2.2.2"
  }
 },
 "nbformat": 4,
 "nbformat_minor": 4
}
